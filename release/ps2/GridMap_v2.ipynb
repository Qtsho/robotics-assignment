{
 "cells": [
  {
   "cell_type": "markdown",
   "id": "protective-plastic",
   "metadata": {},
   "source": [
    "Bevor Sie dieses Problem einreichen, stellen Sie sicher, dass alles wie erwartet läuft. Starten Sie zuerst **den Kernel neu** (wählen Sie in der Menüleiste Kernel$\\rightarrow$Restart) und führen Sie dann **jede Zelle aus** (wählen Sie in der Menüleiste Cell$\\rightarrow$Run Cells ausführen). Wenn Sie Fragen zum Jupyterhub oder zur Aufgabe haben, stehe ich Ihnen gerne zur Verfügung: quang.tran@fh-dortmund.de\n",
    "\n",
    "Stellen Sie sicher, dass Sie alle Stellen ausfüllen, an denen \"YOUR CODE HERE\" oder \"YOUR ANSWER HERE\" steht, sowie Ihren Namen und Ihre Mitarbeiter unten:\n"
   ]
  },
  {
   "cell_type": "code",
   "execution_count": null,
   "id": "paperback-disaster",
   "metadata": {},
   "outputs": [],
   "source": [
    "NAME = \"\"\n",
    "Mitarbeiter = \"\""
   ]
  },
  {
   "cell_type": "markdown",
   "id": "danish-berkeley",
   "metadata": {},
   "source": [
    "---"
   ]
  },
  {
   "cell_type": "markdown",
   "id": "referenced-fiction",
   "metadata": {
    "deletable": false,
    "editable": false,
    "nbgrader": {
     "cell_type": "markdown",
     "checksum": "518d7c8468c2718f04d6d46cbaf800bc",
     "grade": false,
     "grade_id": "cell-fc8dab28ae65177f",
     "locked": true,
     "schema_version": 3,
     "solution": false,
     "task": false
    }
   },
   "source": [
    "<img src=\"fhlogo.png\" width=\"350\">"
   ]
  },
  {
   "cell_type": "markdown",
   "id": "configured-typing",
   "metadata": {
    "deletable": false,
    "editable": false,
    "nbgrader": {
     "cell_type": "markdown",
     "checksum": "80bc52f96b6b1a213ff154b92d41c0e4",
     "grade": false,
     "grade_id": "cell-dca0287498502ac7",
     "locked": true,
     "schema_version": 3,
     "solution": false,
     "task": false
    }
   },
   "source": [
    "# Kartierung bei bekannten Posen (6.2 von Hertzberg et al.)\n",
    "\n",
    "Bevor wir uns der allgemeinen Lösung des SLAM-Problems zuwenden, betrachten wir als Spezialfall Erstellen einer Karte unter der Bedingung, dass die Roboterposen genau bekannt sind (Localisierung schon bekannt). Dieses Tutorial zeigt, wie man LIDAR-Messungen (Entfernungsmessungen) aus einer Datei einliest und in ein Belegungsraster konvertiert."
   ]
  },
  {
   "cell_type": "markdown",
   "id": "anonymous-apple",
   "metadata": {
    "deletable": false,
    "editable": false,
    "nbgrader": {
     "cell_type": "markdown",
     "checksum": "991ac148c14016768d771f7e4ca96007",
     "grade": false,
     "grade_id": "cell-04ca6aea9982384f",
     "locked": true,
     "schema_version": 3,
     "solution": false,
     "task": false
    }
   },
   "source": [
    "## Teil A: Theoretisch Belegtheitskarte/Occupancy Grid Map( Punkte)\n",
    "Bitte füllen Sie alle untenstehenden Antworten aus:"
   ]
  },
  {
   "cell_type": "markdown",
   "id": "exempt-laugh",
   "metadata": {
    "deletable": false,
    "editable": false,
    "nbgrader": {
     "cell_type": "markdown",
     "checksum": "4b0dc9acf5bfa6749d4fc60d07ddf73c",
     "grade": false,
     "grade_id": "Frage1",
     "locked": true,
     "schema_version": 3,
     "solution": false,
     "task": false
    }
   },
   "source": [
    "Frage 1"
   ]
  },
  {
   "cell_type": "markdown",
   "id": "documentary-workplace",
   "metadata": {
    "deletable": false,
    "nbgrader": {
     "cell_type": "markdown",
     "checksum": "8da31e95d7d0c71174095642473bba6c",
     "grade": true,
     "grade_id": "3",
     "locked": false,
     "points": 0,
     "schema_version": 3,
     "solution": true,
     "task": false
    }
   },
   "source": [
    "YOUR ANSWER HERE"
   ]
  },
  {
   "cell_type": "markdown",
   "id": "therapeutic-patrick",
   "metadata": {
    "deletable": false,
    "editable": false,
    "nbgrader": {
     "cell_type": "markdown",
     "checksum": "852e61178136e9261a6f77d6ebd4ae3b",
     "grade": false,
     "grade_id": "Frage2",
     "locked": true,
     "schema_version": 3,
     "solution": false,
     "task": false
    }
   },
   "source": [
    "Frage 2"
   ]
  },
  {
   "cell_type": "markdown",
   "id": "brazilian-court",
   "metadata": {
    "deletable": false,
    "nbgrader": {
     "cell_type": "markdown",
     "checksum": "8c9741e41f88edacc2ee480631f59b3b",
     "grade": true,
     "grade_id": "1",
     "locked": false,
     "points": 0,
     "schema_version": 3,
     "solution": true,
     "task": false
    }
   },
   "source": [
    "YOUR ANSWER HERE"
   ]
  },
  {
   "cell_type": "markdown",
   "id": "disciplinary-secondary",
   "metadata": {
    "deletable": false,
    "editable": false,
    "nbgrader": {
     "cell_type": "markdown",
     "checksum": "0e52fc7a8c792c29baaadc0424b21a03",
     "grade": false,
     "grade_id": "cell-15eee8809871319d",
     "locked": true,
     "schema_version": 3,
     "solution": false,
     "task": false
    }
   },
   "source": [
    "## Teil B: Algorithmus Belegtheitskarte/Occupancy Grid Map( points)\n",
    "\n",
    "Belegtheitskarte [Hans Moravec, A.E. Elfes: High resolution maps from wide angle sonar, Proc. IEEE Int. Conf. Robotics Autom. (1985)] sind ein beliebter, probabilistischer Ansatz zur Darstellung der Umgebung. Das Gitter ist im Grunde eine diskrete Darstellung der Umgebung, die anzeigt, ob eine Gitterzelle besetzt ist oder nicht. Hier wird die Karte als Numpy-Array dargestellt, und Zahlen nahe bei 1 bedeuten, dass die Zelle besetzt ist (schwarz markiert), Zahlen nahe bei 0 bedeuten, dass sie frei ist (hellgrau markiert). Das Raster hat die Möglichkeit, unbekannte (unbeobachtete, schwarz markiert) ereiche darzustellen, die nahe bei 0,5 liegen.\n",
    "\n",
    "Eingabe : Sequenz von LIDAR Messwerten $z_t$ und korrekten Posen $x_t$.\n",
    "\n",
    "Ausgabe:  Belegtheitsw.keit Bel($m_{x,z}$) für jede Rasterzelle (x, z).\n"
   ]
  },
  {
   "cell_type": "code",
   "execution_count": null,
   "id": "comfortable-dinner",
   "metadata": {
    "deletable": false,
    "editable": false,
    "nbgrader": {
     "cell_type": "code",
     "checksum": "a8ed91efca6778e7410f56be57a8d610",
     "grade": false,
     "grade_id": "cell-83bce6dc877bea2a",
     "locked": true,
     "schema_version": 3,
     "solution": false,
     "task": false
    }
   },
   "outputs": [],
   "source": [
    "import scipy.io\n",
    "import scipy.stats\n",
    "import numpy as np\n",
    "import matplotlib.pyplot as plt\n",
    "from tqdm import tqdm\n",
    "\n",
    "class Map():\n",
    "    def __init__(self, xsize, ysize, grid_size):\n",
    "        self.xsize = xsize+2 # Add extra cells for the borders\n",
    "        self.ysize = ysize+2\n",
    "        self.grid_size = grid_size # save this off for future use\n",
    "        self.log_prob_map = np.zeros((self.xsize, self.ysize)) # set all to zero\n",
    "\n",
    "        self.alpha = 1.0 # The assumed thickness of obstacles\n",
    "        self.beta = 5.0*np.pi/180.0 # The assumed width of the laser beam\n",
    "        self.z_max = 150.0 # The max reading from the laser\n",
    "\n",
    "        # Pre-allocate the x and y positions of all grid positions into a 3D tensor\n",
    "        # (pre-allocation = faster)\n",
    "        self.grid_position_m = np.array([np.tile(np.arange(0, self.xsize*self.grid_size, self.grid_size)[:,None], (1, self.ysize)),\n",
    "                                         np.tile(np.arange(0, self.ysize*self.grid_size, self.grid_size)[:,None].T, (self.xsize, 1))])\n",
    "\n",
    "        # Log-Probabilities to add or remove from the map \n",
    "        self.l_occ = np.log(0.65/0.35)\n",
    "        self.l_free = np.log(0.35/0.65)\n",
    "\n",
    "    def update_map(self, pose, z):\n",
    "\n",
    "        dx = self.grid_position_m.copy() # A tensor of coordinates of all cells\n",
    "        dx[0, :, :] -= pose[0] # A matrix of all the x coordinates of the cell\n",
    "        dx[1, :, :] -= pose[1] # A matrix of all the y coordinates of the cell\n",
    "        theta_to_grid = np.arctan2(dx[1, :, :], dx[0, :, :]) - pose[2] # matrix of all bearings from robot to cell\n",
    "\n",
    "        # Wrap to +pi / - pi\n",
    "        theta_to_grid[theta_to_grid > np.pi] -= 2. * np.pi\n",
    "        theta_to_grid[theta_to_grid < -np.pi] += 2. * np.pi\n",
    "\n",
    "        dist_to_grid = scipy.linalg.norm(dx, axis=0) # matrix of L2 distance to all cells from robot\n",
    "\n",
    "        # For each laser beam\n",
    "        for z_i in z:\n",
    "            r = z_i[0] # range measured\n",
    "            b = z_i[1] # bearing measured\n",
    "\n",
    "            # Calculate which cells are measured free or occupied, so we know which cells to update\n",
    "            # Doing it this way is like a billion times faster than looping through each cell (because vectorized numpy is the only way to numpy)\n",
    "            free_mask = (np.abs(theta_to_grid - b) <= self.beta/2.0) & (dist_to_grid < (r - self.alpha/2.0))\n",
    "            occ_mask = (np.abs(theta_to_grid - b) <= self.beta/2.0) & (np.abs(dist_to_grid - r) <= self.alpha/2.0)\n",
    "\n",
    "            # Adjust the cells appropriately\n",
    "            self.log_prob_map[occ_mask] += self.l_occ\n",
    "            self.log_prob_map[free_mask] += self.l_free\n",
    "\n",
    "if __name__ == '__main__':\n",
    "\n",
    "    # load matlab generated data (located at http://jamessjackson.com/files/index.php/s/sdKzy9nnqaVlKUe)\n",
    "    data = scipy.io.loadmat('state_meas_data.mat')\n",
    "    state = data['X']\n",
    "    meas = data['z']\n",
    "\n",
    "    # Define the parameters for the map.  (This is a 100x100m map with grid size 1x1m)\n",
    "    grid_size = 1.0\n",
    "    map = Map(int(100/grid_size), int(100/grid_size), grid_size)\n",
    "\n",
    "    plt.ion() # enable real-time plotting\n",
    "    plt.figure(1) # create a plot\n",
    "    for i in tqdm(range(len(state.T))):\n",
    "        map.update_map(state[:,i], meas[:,:,i].T) # update the map\n",
    "\n",
    "        # Real-Time Plotting \n",
    "        # (comment out these next lines to make it run super fast, matplotlib is painfully slow)\n",
    "        #plt.clf()\n",
    "        pose = state[:,i]\n",
    "        circle = plt.Circle((pose[1], pose[0]), radius=3.0, fc='y')\n",
    "        plt.gca().add_patch(circle)\n",
    "        arrow = pose[0:2] + np.array([3.5, 0]).dot(np.array([[np.cos(pose[2]), np.sin(pose[2])], [-np.sin(pose[2]), np.cos(pose[2])]]))\n",
    "        plt.plot([pose[1], arrow[1]], [pose[0], arrow[0]])\n",
    "        plt.imshow(1.0 - 1./(1.+np.exp(map.log_prob_map)), 'Greys')\n",
    "        plt.pause(0.005)\n",
    "\n",
    "    # Final Plotting\n",
    "    plt.ioff()\n",
    "    plt.clf()\n",
    "    plt.imshow(1.0 - 1./(1.+np.exp(map.log_prob_map)), 'Greys') # This is probability\n",
    "    plt.imshow(map.log_prob_map, 'Greys') # log probabilities (looks really cool)\n",
    "    plt.show()"
   ]
  },
  {
   "cell_type": "markdown",
   "id": "bulgarian-appendix",
   "metadata": {
    "deletable": false,
    "editable": false,
    "nbgrader": {
     "cell_type": "markdown",
     "checksum": "eb9d3a1391902d424ac0467fc9e0f6d6",
     "grade": false,
     "grade_id": "cell-91a0637fb6127648",
     "locked": true,
     "schema_version": 3,
     "solution": false,
     "task": false
    }
   },
   "source": [
    "Aus den Abständen und den Winkeln lassen sich leicht die x- und y-Koordinaten mit sin und cos bestimmen. Für die Darstellung wird matplotlib.pyplot (plt) verwendet."
   ]
  },
  {
   "cell_type": "markdown",
   "id": "sitting-layer",
   "metadata": {
    "deletable": false,
    "editable": false,
    "nbgrader": {
     "cell_type": "markdown",
     "checksum": "578e8bb600a7b8d3ed7270db987ed894",
     "grade": false,
     "grade_id": "cell-ae4d16645a509afb",
     "locked": true,
     "schema_version": 3,
     "solution": false,
     "task": false
    }
   },
   "source": [
    "Die Datei lidar_to_grid_map.py enthält praktische Funktionen, mit denen eine 2D-Entfernungsmessung in eine Rasterkarte umgewandelt werden kann. Zum Beispiel gibt die bresenham die eine gerade Linie zwischen zwei Punkten in eine Rasterkarte. Schauen wir uns an, wie das funktioniert:"
   ]
  },
  {
   "cell_type": "markdown",
   "id": "lucky-intervention",
   "metadata": {
    "deletable": false,
    "editable": false,
    "nbgrader": {
     "cell_type": "markdown",
     "checksum": "86cb23b3373662369766bdb6a4f585e8",
     "grade": false,
     "grade_id": "cell-142b4850de948756",
     "locked": true,
     "schema_version": 3,
     "solution": false,
     "task": false
    }
   },
   "source": [
    "Um leere Bereiche zu füllen, kann ein warteschlangenbasierter Algorithmus verwendet werden, der auf eine initialisierte Belegungskarte angewendet werden kann. Der Mittelpunkt ist gegeben: Der Algorithmus (lg.flood_fill) prüft in jeder Iteration auf Nachbarelemente und stoppt die Expansion bei Hindernissen und freien Grenzen."
   ]
  },
  {
   "cell_type": "markdown",
   "id": "persistent-genesis",
   "metadata": {
    "deletable": false,
    "editable": false,
    "nbgrader": {
     "cell_type": "markdown",
     "checksum": "6c601ed124e1a338bba3250c2d2e7f6a",
     "grade": false,
     "grade_id": "cell-8675883430f0ece1",
     "locked": true,
     "schema_version": 3,
     "solution": false,
     "task": false
    }
   },
   "source": [
    " Lassen Sie uns diese Bresenham auf reale Daten anwenden:"
   ]
  },
  {
   "cell_type": "markdown",
   "id": "acquired-identifier",
   "metadata": {
    "deletable": false,
    "editable": false,
    "nbgrader": {
     "cell_type": "markdown",
     "checksum": "1881a7dd7564f1337a34debcaad62ce9",
     "grade": false,
     "grade_id": "cell-97a6c0e75df20972",
     "locked": true,
     "schema_version": 3,
     "solution": false,
     "task": false
    }
   },
   "source": [
    "Gratulation, Sie haben gerade eine Belegtheitskarte vom Laserscanner erstellt "
   ]
  }
 ],
 "metadata": {
  "kernelspec": {
   "display_name": "class",
   "language": "python",
   "name": "class"
  },
  "language_info": {
   "codemirror_mode": {
    "name": "ipython",
    "version": 3
   },
   "file_extension": ".py",
   "mimetype": "text/x-python",
   "name": "python",
   "nbconvert_exporter": "python",
   "pygments_lexer": "ipython3",
   "version": "3.7.10"
  }
 },
 "nbformat": 4,
 "nbformat_minor": 5
}
