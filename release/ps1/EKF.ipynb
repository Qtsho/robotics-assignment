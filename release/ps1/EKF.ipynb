{
 "cells": [
  {
   "cell_type": "markdown",
   "metadata": {},
   "source": [
    "Bevor Sie dieses Problem einreichen, stellen Sie sicher, dass alles wie erwartet läuft. Starten Sie zuerst **den Kernel neu** (wählen Sie in der Menüleiste Kernel$\\rightarrow$Restart) und führen Sie dann **jede Zelle aus** (wählen Sie in der Menüleiste Cell$\\rightarrow$Run Cells ausführen). Wenn Sie Fragen zum Jupyterhub oder zur Aufgabe haben, stehe ich Ihnen gerne zur Verfügung: quang.tran@fh-dortmund.de\n",
    "\n",
    "Stellen Sie sicher, dass Sie alle Stellen ausfüllen, an denen \"YOUR CODE HERE\" oder \"YOUR ANSWER HERE\" steht, sowie Ihren Namen und Ihre Mitarbeiter unten:\n"
   ]
  },
  {
   "cell_type": "code",
   "execution_count": null,
   "metadata": {},
   "outputs": [],
   "source": [
    "NAME = \"\"\n",
    "Mitarbeiter = \"\""
   ]
  },
  {
   "cell_type": "markdown",
   "metadata": {},
   "source": [
    "---"
   ]
  },
  {
   "cell_type": "markdown",
   "metadata": {
    "deletable": false,
    "editable": false,
    "nbgrader": {
     "cell_type": "markdown",
     "checksum": "51df25946585c8c7abba7b45583ad15e",
     "grade": false,
     "grade_id": "cell-396d435acb6e6f8a",
     "locked": true,
     "schema_version": 3,
     "solution": false,
     "task": false
    }
   },
   "source": [
    "<img src=\"fhlogo.png\" width=\"350\">"
   ]
  },
  {
   "cell_type": "markdown",
   "metadata": {
    "deletable": false,
    "editable": false,
    "nbgrader": {
     "cell_type": "markdown",
     "checksum": "25f27b8630bdc72f19523c77d8a6b805",
     "grade": false,
     "grade_id": "cell-df3821f200c449f2",
     "locked": true,
     "schema_version": 3,
     "solution": false,
     "task": false
    }
   },
   "source": [
    "# Lokalisierung mit erweitertem Kalman-Filter (5.3 von Hertzberg et al.)\n",
    "\n",
    "In dieser Übung werden wir einen erweiterten Kalman-Filter verwenden, um die Ego-Position des Roboters zu schätzen."
   ]
  },
  {
   "cell_type": "markdown",
   "metadata": {
    "deletable": false,
    "editable": false,
    "nbgrader": {
     "cell_type": "markdown",
     "checksum": "daedb9424db8d42c1007e4e114360f4b",
     "grade": false,
     "grade_id": "cell-3123ece220e9aff6",
     "locked": true,
     "schema_version": 3,
     "solution": false,
     "task": false
    }
   },
   "source": [
    "---\n",
    "## Teil A: Theoretisch (erweitertem) Kalman Filter. Abk. (E)KF (3 Punkte)\n",
    "\n",
    "Bitte füllen Sie alle untenstehenden Antworten aus:"
   ]
  },
  {
   "cell_type": "markdown",
   "metadata": {
    "deletable": false,
    "editable": false,
    "nbgrader": {
     "cell_type": "markdown",
     "checksum": "0fb2885969742e9809467d4577553038",
     "grade": false,
     "grade_id": "frage1",
     "locked": true,
     "schema_version": 3,
     "solution": false,
     "task": false
    }
   },
   "source": [
    "Was ist der Unterschied zwischen KF und EKF?"
   ]
  },
  {
   "cell_type": "markdown",
   "metadata": {
    "deletable": false,
    "nbgrader": {
     "cell_type": "markdown",
     "checksum": "0c51e08236a5914de1ac86a12bcc79ad",
     "grade": true,
     "grade_id": "anwort1",
     "locked": false,
     "points": 1,
     "schema_version": 3,
     "solution": true,
     "task": false
    }
   },
   "source": [
    "YOUR ANSWER HERE"
   ]
  },
  {
   "cell_type": "markdown",
   "metadata": {
    "deletable": false,
    "editable": false,
    "nbgrader": {
     "cell_type": "markdown",
     "checksum": "5a8011faf6ec8a79de1440eebfb95397",
     "grade": false,
     "grade_id": "frage2",
     "locked": true,
     "schema_version": 3,
     "solution": false,
     "task": false
    }
   },
   "source": [
    "ist der Kalman-Filter ein Bayes-Filter? warum ist er das/nicht?"
   ]
  },
  {
   "cell_type": "markdown",
   "metadata": {
    "deletable": false,
    "nbgrader": {
     "cell_type": "markdown",
     "checksum": "cc30d9457a9f99f84c69c1ff6257c2ec",
     "grade": true,
     "grade_id": "anwort2",
     "locked": false,
     "points": 1,
     "schema_version": 3,
     "solution": true,
     "task": false
    }
   },
   "source": [
    "YOUR ANSWER HERE"
   ]
  },
  {
   "cell_type": "markdown",
   "metadata": {
    "deletable": false,
    "editable": false,
    "nbgrader": {
     "cell_type": "markdown",
     "checksum": "5fa3d7a459613cf39c4c1df064148cc1",
     "grade": false,
     "grade_id": "frage3",
     "locked": true,
     "schema_version": 3,
     "solution": false,
     "task": false
    }
   },
   "source": [
    "Können Sie einige Anwendungen des (erweiterten) Kalman-Filters auflisten?"
   ]
  },
  {
   "cell_type": "markdown",
   "metadata": {
    "deletable": false,
    "nbgrader": {
     "cell_type": "markdown",
     "checksum": "19f694d1ed4f638060f1f9d6700b42d4",
     "grade": true,
     "grade_id": "anwort3",
     "locked": false,
     "points": 1,
     "schema_version": 3,
     "solution": true,
     "task": false
    }
   },
   "source": [
    "YOUR ANSWER HERE"
   ]
  },
  {
   "cell_type": "markdown",
   "metadata": {
    "deletable": false,
    "editable": false,
    "nbgrader": {
     "cell_type": "markdown",
     "checksum": "48706c0250ecf3d300299e594634c0c3",
     "grade": false,
     "grade_id": "cell-2e34926c53fd13bb",
     "locked": true,
     "schema_version": 3,
     "solution": false,
     "task": false
    }
   },
   "source": [
    "---\n",
    "\n",
    "## Teil B: Filter Design (3 Punkte)\n",
    "\n",
    "Stellen Sie sich eine Situation vor, in der wir einen Odometrie, einen Gyroskop und ein GPS haben. Wir möchten die Position des Roboters/Auto mithilfe von EKF schätzen.\n",
    "\n",
    "\n",
    "In dieser Simulation hat der Roboter einen Zustandsvektor von der Zustandsraumdarstellung wie folgt:\n",
    "\n",
    "\n",
    "\n",
    "$$\\textbf{x}_t=[x_t, y_t, \\phi_t, v_t]^T$$\n",
    "wo:\n",
    "\n",
    "x, y sind die 2D x-y ego-position, \n",
    "\n",
    "$\\phi$ ist ego-orientatierung,\n",
    "\n",
    "v ist ego-geschwindigkeit.\n",
    "\n",
    "Dank der Odometrie (Geschwindigkeitssensor) und des Gyroskops können wir die lineare und die Winkelgeschwindigkeit des Fahrzeugs steuern. So i.d.R kann der Eingangsvetor als beliebiger Zeitschritt verwendet werden.\n",
    "\n",
    "$$\\textbf{u}_t=[v_t, \\omega_t]$$\n",
    "\n",
    "Außerdem verfügt der Roboter über einen GNSS-Sensor, d. h. der Roboter kann die x-y-Position zu jedem Zeitpunkt beobachten. Beachten Sie, dass diese Sensoren immer Fehler haben, die wir später besprechen werden.\n",
    "\n",
    "$$\\textbf{z}_t=[x_t,y_t]$$\n"
   ]
  },
  {
   "cell_type": "markdown",
   "metadata": {
    "deletable": false,
    "editable": false,
    "nbgrader": {
     "cell_type": "markdown",
     "checksum": "2162d54dbf4c504fd71526b752122c02",
     "grade": false,
     "grade_id": "cell-ce52f3cb7eb66293",
     "locked": true,
     "schema_version": 3,
     "solution": false,
     "task": false
    }
   },
   "source": [
    "Zunächst importieren wir die benötigte Python-Bibliothek, indem wir die folgenden Zellen wie math, ploting, numpy und scipy ausführen.\n",
    "### Simulationsparameter\n",
    "\n",
    "Hier haben wir die Simulationsparameter:\n",
    "\n",
    "Eingang ($v, w$) Geräusch / GPS Geräusch\n",
    "\n",
    "Zeittick: DT\n",
    "\n",
    "lineare/angulare Geschwindigkeit\n",
    "\n",
    "Simulationszeit/Rendering"
   ]
  },
  {
   "cell_type": "code",
   "execution_count": null,
   "metadata": {
    "deletable": false,
    "editable": false,
    "nbgrader": {
     "cell_type": "code",
     "checksum": "924d20cffab98ca8edc9b96f60e0c57c",
     "grade": false,
     "grade_id": "cell-bb84b3476abd5846",
     "locked": true,
     "schema_version": 3,
     "solution": false,
     "task": false
    }
   },
   "outputs": [],
   "source": [
    "import math\n",
    "import matplotlib.pyplot as plt\n",
    "import numpy as np\n",
    "from scipy.spatial.transform import Rotation as Rot\n",
    "\n",
    "#Simulationsparameter\n",
    "INPUT_NOISE = np.diag([1.0, np.deg2rad(30.0)]) ** 2\n",
    "GPS_NOISE = np.diag([0.5, 0.5]) ** 2 # diagonal matrix 0.5\n",
    "DT = 0.1  # time tick [s]\n",
    "SIM_TIME = 40.0  # simulation time [s]\n",
    "show_animation = True"
   ]
  },
  {
   "cell_type": "markdown",
   "metadata": {
    "deletable": false,
    "editable": false,
    "nbgrader": {
     "cell_type": "markdown",
     "checksum": "925b5ce4dc64be0a68f7cc861adbfd1b",
     "grade": false,
     "grade_id": "cell-b19e7c1b4533a302",
     "locked": true,
     "schema_version": 3,
     "solution": false,
     "task": false
    }
   },
   "source": [
    "### Motion Model (Zustandsdifferenzialgleichung) \n",
    "\n",
    "The robot model is:\n",
    "\n",
    "$$\\dot{x} = vcos(\\phi)$$\n",
    "\n",
    "$$ \\dot{y} = vsin((\\phi)$$\n",
    "\n",
    "$$ \\dot{\\phi} = \\omega$$\n",
    "\n",
    "\n",
    "So, the motion model is\n",
    "\n",
    "$$\\textbf{x}_{t+1} = A\\textbf{x}_t+B\\textbf{u}_t$$\n",
    "\n",
    "wo:\n",
    "\n",
    "$\\begin{equation*}\n",
    "A=\n",
    "\\begin{bmatrix}\n",
    "1 & 0 & 0 & 0\\\\\n",
    "0 & 1 & 0 & 0\\\\\n",
    "0 & 0 & 1 & 0 \\\\\n",
    "0 & 0 & 0 & 0 \\\\\n",
    "\\end{bmatrix}\n",
    "\\end{equation*}$\n",
    "\n",
    "$\\begin{equation*}\n",
    "B=\n",
    "\\begin{bmatrix}\n",
    "cos(\\phi)dt & 0\\\\\n",
    "sin(\\phi)dt & 0\\\\\n",
    "0 & dt\\\\\n",
    "1 & 0\\\\\n",
    "\\end{bmatrix}\n",
    "\\end{equation*}$\n",
    "\n",
    "$dt$ ist ein Zeitintervall."
   ]
  },
  {
   "cell_type": "code",
   "execution_count": null,
   "metadata": {},
   "outputs": [],
   "source": [
    "A = np.array([[1.0, 0, 0, 0],\n",
    "                  [0, 1.0, 0, 0],\n",
    "                  [0, 0, 1.0, 0],\n",
    "                  [0, 0, 0, 0]])\n",
    "print (A)"
   ]
  },
  {
   "cell_type": "code",
   "execution_count": null,
   "metadata": {
    "deletable": false,
    "nbgrader": {
     "cell_type": "code",
     "checksum": "33cb0ef6077dadbe7ba66d7779e10b5e",
     "grade": false,
     "grade_id": "motion_model",
     "locked": false,
     "schema_version": 3,
     "solution": true,
     "task": false
    }
   },
   "outputs": [],
   "source": [
    "def motion_model(x, u):\n",
    "    '''\n",
    "    Aufgabe:\n",
    "        Erstellen einer A- und B-Matrix als Python-Numpy-Array und die nextstate Gleichung\n",
    "    Hinweis: \n",
    "        Verwenden Sie np.array() und die mathematische Bibliothek. \n",
    "        Verwenden Sie @ Infix-Operator für Matrixmultiplikation verwenden (z.B.: A @ x)\n",
    "    Ergebnis: \n",
    "        x: nächsterZustand x (t+1)\n",
    "    '''\n",
    "    # YOUR CODE HERE\n",
    "    raise NotImplementedError()\n",
    "    \n",
    "    return x # nextstate\n",
    "\n",
    "#Übergangsmatrizen \n",
    "def jacob_f(x, u):\n",
    "    \"\"\"\n",
    "    Jacobian of Motion Model\n",
    "\n",
    "    motion model\n",
    "    x_{t+1} = x_t+v*dt*cos(yaw)\n",
    "    y_{t+1} = y_t+v*dt*sin(yaw)\n",
    "    yaw_{t+1} = yaw_t+omega*dt\n",
    "    v_{t+1} = v{t}\n",
    "    so\n",
    "    dx/dyaw = -v*dt*sin(yaw)\n",
    "    dx/dv = dt*cos(yaw)\n",
    "    dy/dyaw = v*dt*cos(yaw)\n",
    "    dy/dv = dt*sin(yaw)\n",
    "    \"\"\"\n",
    "    yaw = x[2, 0]\n",
    "    v = u[0, 0]\n",
    "    jF = np.array([\n",
    "        [1.0, 0.0, -DT * v * math.sin(yaw), DT * math.cos(yaw)],\n",
    "        [0.0, 1.0, DT * v * math.cos(yaw), DT * math.sin(yaw)],\n",
    "        [0.0, 0.0, 1.0, 0.0],\n",
    "        [0.0, 0.0, 0.0, 1.0]])\n",
    "\n",
    "    return jF"
   ]
  },
  {
   "cell_type": "markdown",
   "metadata": {
    "deletable": false,
    "editable": false,
    "nbgrader": {
     "cell_type": "markdown",
     "checksum": "bbadbf8124d4d8c7cfeecaa958cda3c9",
     "grade": false,
     "grade_id": "Obsevation-model",
     "locked": true,
     "schema_version": 3,
     "solution": false,
     "task": false
    }
   },
   "source": [
    "### Observation Model (Ausgangsgleichung)\n",
    "\n",
    "Der Roboter kann x-y-Positionsinformationen vom GPS erhalten.\n",
    "\n",
    "Das GPS-Observationmodelle ist also:\n",
    "\n",
    "$$\\textbf{z}_{t} = C\\textbf{x}_t$$\n",
    "\n",
    "wo:\n",
    "\n",
    "$\\begin{equation*}\n",
    "C=\n",
    "\\begin{bmatrix}\n",
    "1 & 0 & 0& 0\\\\\n",
    "0 & 1 & 0& 0\\\\\n",
    "\\end{bmatrix}\n",
    "\\end{equation*}$\n",
    "\n",
    "Jacobi-Matrix ist:\n",
    "\n",
    "$\\begin{equation*}\n",
    "J_H=\n",
    "\\begin{bmatrix}\n",
    "\\frac{dx}{dx}& \\frac{dx}{dy} & \\frac{dx}{d\\phi} &  \\frac{dx}{dv}\\\\\n",
    "\\frac{dy}{dx}& \\frac{dy}{dy} & \\frac{dy}{d\\phi} &  \\frac{dy}{dv}\\\\\n",
    "\\end{bmatrix}\n",
    "\\end{equation*}$\n",
    "\n",
    "$\\begin{equation*}\n",
    "　=\n",
    "\\begin{bmatrix}\n",
    "1& 0 & 0 & 0\\\\\n",
    "0 & 1 & 0 & 0\\\\\n",
    "\\end{bmatrix}\n",
    "\\end{equation*}$"
   ]
  },
  {
   "cell_type": "code",
   "execution_count": null,
   "metadata": {
    "deletable": false,
    "nbgrader": {
     "cell_type": "code",
     "checksum": "3d9b5759467fc20a0a8bbdc4990e5033",
     "grade": false,
     "grade_id": "obsevation-model_implement",
     "locked": false,
     "schema_version": 3,
     "solution": true,
     "task": false
    }
   },
   "outputs": [],
   "source": [
    "def observation_model(x):\n",
    "    '''\n",
    "    Aufgabe:\n",
    "        Erstellen einer C-Matrix als Python-Numpy-Array und die Output Gleichung z\n",
    "    Hinweis: \n",
    "        Verwenden Sie np.array() und die mathematische Bibliothek. \n",
    "        Verwenden Sie @ Infix-Operator für Matrixmultiplikation verwenden (z.B.: A @ x)\n",
    "    Ergebnis: \n",
    "        z: Output function\n",
    "    '''\n",
    "    # YOUR CODE HERE\n",
    "    raise NotImplementedError()\n",
    "    return z\n",
    "\n",
    "def jacob_h():\n",
    "    # Jacobian of Observation Model\n",
    "    jH = np.array([\n",
    "        [1, 0, 0, 0],\n",
    "        [0, 1, 0, 0]\n",
    "    ])\n",
    "\n",
    "    return jH"
   ]
  },
  {
   "cell_type": "markdown",
   "metadata": {
    "deletable": false,
    "editable": false,
    "nbgrader": {
     "cell_type": "markdown",
     "checksum": "1655a68490b2f3a44cc5c0eb6d764687",
     "grade": false,
     "grade_id": "cell-de9b29a85f3590f4",
     "locked": true,
     "schema_version": 3,
     "solution": false,
     "task": false
    }
   },
   "source": [
    "### Extented Kalman Filter Algorithm\n",
    "\n",
    "Lokalisierungsverfahren mit erweitertem Kalman-Filter:\n",
    "\n",
    "=== Prädiktion===\n",
    "\n",
    "Motion command: $x_{Pred} = Ax_t+Bu_t$\n",
    "\n",
    "Predicted covariance: $P_{Pred} = J_FP_t J_F^T + Q$\n",
    "\n",
    "=== Korrektur ===\n",
    "\n",
    "Observation: $z_{Pred} = Hx_{Pred}$ \n",
    "\n",
    "$y = z - z_{Pred}$\n",
    "\n",
    "$S = J_H P_{Pred}.J_H^T + R$\n",
    "\n",
    "Compute the Kalman gain: $K = P_{Pred}.J_H^T S^{-1}$\n",
    "\n",
    "Estimated next state: $x_{t+1} = x_{Pred} + Ky$\n",
    "\n",
    "Update the error covariance: $P_{t+1} = ( I - K J_H) P_{Pred}$\n",
    "\n",
    "Denkfrage: Wenn wir KF verwenden, welcher Teil wird dann verändert?"
   ]
  },
  {
   "cell_type": "code",
   "execution_count": null,
   "metadata": {
    "deletable": false,
    "nbgrader": {
     "cell_type": "code",
     "checksum": "c17e914e81fd68c9ba6035947849662a",
     "grade": false,
     "grade_id": "EKF",
     "locked": false,
     "schema_version": 3,
     "solution": true,
     "task": false
    }
   },
   "outputs": [],
   "source": [
    "def ekf_estimation(xEst, PEst, z, u):\n",
    "   \n",
    "    '''\n",
    "    Aufgabe:\n",
    "        Prädiktion \n",
    "    Hinweis: \n",
    "        motion_model, jacob_f Funktion von oben verwenden\n",
    "        Verwenden Sie @ Infix-Operator für Matrixmultiplikation verwenden \n",
    "    Ergebnis: \n",
    "        xPred: Predicted state\n",
    "        PPred: Predicted covariance\n",
    "    '''\n",
    "    # YOUR CODE HERE\n",
    "    raise NotImplementedError()\n",
    "    \n",
    "    #  Korrektur\n",
    "    jH = jacob_h() #linearized\n",
    "    zPred = observation_model(xPred)\n",
    "    y = z - zPred\n",
    "    S = jH @ PPred @ jH.T + R\n",
    "    K = PPred @ jH.T @ np.linalg.inv(S)\n",
    "    xEst = xPred + K @ y\n",
    "    PEst = (np.eye(len(xEst)) - K @ jH) @ PPred\n",
    "    return xEst, PEst"
   ]
  },
  {
   "cell_type": "markdown",
   "metadata": {
    "deletable": false,
    "editable": false,
    "nbgrader": {
     "cell_type": "markdown",
     "checksum": "e43135c0128971b9601961299a8dfa50",
     "grade": false,
     "grade_id": "ausxilaries",
     "locked": true,
     "schema_version": 3,
     "solution": false,
     "task": false
    }
   },
   "source": [
    "### EKF Kovarianzmatrix\n",
    "\n",
    "$Q$: Prozessrauschen\n",
    "\n",
    "$R$: Messrauschen"
   ]
  },
  {
   "cell_type": "code",
   "execution_count": null,
   "metadata": {
    "deletable": false,
    "nbgrader": {
     "cell_type": "code",
     "checksum": "9fe41249a0a7c022af19c2a902ba2c83",
     "grade": false,
     "grade_id": "Noise_matrix",
     "locked": false,
     "schema_version": 3,
     "solution": true,
     "task": false
    }
   },
   "outputs": [],
   "source": [
    "'''\n",
    "Aufgabe:\n",
    "    Ändern Sie die Q- und R-Matrix, um den Unterschied zu sehen\n",
    "Ergebnis: \n",
    "    Q: Prozessrauschen Matrix\n",
    "    𝑅: Messrauschen Matrix\n",
    " '''\n",
    "Q = np.diag([\n",
    "    0.1,  # variance of location on x-axis\n",
    "    0.1,  # variance of location on y-axis\n",
    "    np.deg2rad(1.0),  # variance of yaw angle\n",
    "    1.0  # variance of velocity\n",
    "]) ** 2  # predict state covariance\n",
    "\n",
    "R = np.diag([1.0, 1.0]) ** 2  # Observation x,y position covariance\n",
    "\n",
    "'''\n",
    "Nach der Änderung schreiben Sie (ohne Einrückung): \n",
    "    print (Q) \n",
    "    print (R)     \n",
    "in den Block unten, um die Matrix zu sehen\n",
    "\n",
    "'''\n",
    "# YOUR CODE HERE\n",
    "raise NotImplementedError()\n",
    "\n"
   ]
  },
  {
   "cell_type": "markdown",
   "metadata": {
    "deletable": false,
    "editable": false,
    "nbgrader": {
     "cell_type": "markdown",
     "checksum": "3c0b72dfa21a68a9fe85a131b7839848",
     "grade": false,
     "grade_id": "cell-02fd716a75b13e03",
     "locked": true,
     "schema_version": 3,
     "solution": false,
     "task": false
    }
   },
   "source": [
    "### Hilfsmittel Funktion für die Simulation\n",
    "\n",
    "Eingabe berechnen\n",
    "\n",
    "Messung/Prozess mit Rauschen generieren \n",
    "\n",
    "Kovarianz-Eclipse aufzeichnen\n"
   ]
  },
  {
   "cell_type": "code",
   "execution_count": null,
   "metadata": {
    "deletable": false,
    "editable": false,
    "nbgrader": {
     "cell_type": "code",
     "checksum": "d72a623ea7c8b89b345db558135194eb",
     "grade": false,
     "grade_id": "cell-2dcb725c12a3b9e5",
     "locked": true,
     "schema_version": 3,
     "solution": false,
     "task": false
    }
   },
   "outputs": [],
   "source": [
    "def calc_input():\n",
    "    v = 1.0  # [m/s]\n",
    "    yawrate = 0.1  # [rad/s]\n",
    "    u = np.array([[v], [yawrate]])\n",
    "    return u\n",
    "\n",
    "def observation(xTrue, xd, u): #generates the input and observation vector with noises\n",
    "    xTrue = motion_model(xTrue, u)\n",
    "\n",
    "    # add noise to gps x-y\n",
    "    z = observation_model(xTrue) + GPS_NOISE @ np.random.randn(2, 1)\n",
    "\n",
    "    # add noise to input - reflect odom and gyro noise\n",
    "    ud = u + INPUT_NOISE @ np.random.randn(2, 1)\n",
    "\n",
    "    xd = motion_model(xd, ud)\n",
    "\n",
    "    return xTrue, z, xd, ud\n",
    "\n",
    "def plot_covariance_ellipse(xEst, PEst):  \n",
    "    Pxy = PEst[0:2, 0:2]\n",
    "    eigval, eigvec = np.linalg.eig(Pxy)\n",
    "\n",
    "    if eigval[0] >= eigval[1]:\n",
    "        bigind = 0\n",
    "        smallind = 1\n",
    "    else:\n",
    "        bigind = 1\n",
    "        smallind = 0\n",
    "\n",
    "    t = np.arange(0, 2 * math.pi + 0.1, 0.1)\n",
    "    a = math.sqrt(eigval[bigind])\n",
    "    b = math.sqrt(eigval[smallind])\n",
    "    x = [a * math.cos(it) for it in t]\n",
    "    y = [b * math.sin(it) for it in t]\n",
    "    angle = math.atan2(eigvec[1, bigind], eigvec[0, bigind])\n",
    "    rot = Rot.from_euler('z', angle).as_matrix()[0:2, 0:2]\n",
    "    fx = rot @ (np.array([x, y]))\n",
    "    px = np.array(fx[0, :] + xEst[0, 0]).flatten()\n",
    "    py = np.array(fx[1, :] + xEst[1, 0]).flatten()\n",
    "    plt.plot(px, py, \"--r\")"
   ]
  },
  {
   "cell_type": "markdown",
   "metadata": {
    "deletable": false,
    "editable": false,
    "nbgrader": {
     "cell_type": "markdown",
     "checksum": "3f66d2e6aa0add32898fbabb77fcd9e1",
     "grade": false,
     "grade_id": "cell-0a36c4ef6ad2fbe5",
     "locked": true,
     "schema_version": 3,
     "solution": false,
     "task": false
    }
   },
   "source": [
    "# Hauptprogramm"
   ]
  },
  {
   "cell_type": "code",
   "execution_count": null,
   "metadata": {
    "deletable": false,
    "editable": false,
    "nbgrader": {
     "cell_type": "code",
     "checksum": "8945206f8b37d378a5662b8d073c9c2c",
     "grade": false,
     "grade_id": "cell-3ef74ca950b1b5c8",
     "locked": true,
     "schema_version": 3,
     "solution": false,
     "task": false
    }
   },
   "outputs": [],
   "source": [
    "if __name__ == '__main__':  \n",
    "    time = 0.0\n",
    "\n",
    "    # State Vector [x y yaw v]'\n",
    "    xEst = np.zeros((4, 1))\n",
    "    xTrue = np.zeros((4, 1))\n",
    "    PEst = np.eye(4)\n",
    "\n",
    "    xDR = np.zeros((4, 1))  # Dead reckoning\n",
    "\n",
    "    #store history\n",
    "    hxEst = xEst\n",
    "    hxTrue = xTrue\n",
    "    hxDR = xTrue\n",
    "    hz = np.zeros((2, 1))\n",
    "\n",
    "    while SIM_TIME >= time:\n",
    "        time += DT\n",
    "        u = calc_input()\n",
    "\n",
    "        xTrue, z, xDR, ud = observation(xTrue, xDR, u) #add noises\n",
    "\n",
    "        xEst, PEst = ekf_estimation(xEst, PEst, z, ud)\n",
    "\n",
    "        # store data history\n",
    "        hxEst = np.hstack((hxEst, xEst))\n",
    "        hxDR = np.hstack((hxDR, xDR))\n",
    "        hxTrue = np.hstack((hxTrue, xTrue))\n",
    "        hz = np.hstack((hz, z))\n",
    "\n",
    "        if show_animation:\n",
    "            plt.clf()\n",
    "            # for stopping simulation with the esc key.\n",
    "            plt.gcf().canvas.mpl_connect('key_release_event',\n",
    "                    lambda event: [exit(0) if event.key == 'escape' else None])\n",
    "            plt.plot(hz[0, :], hz[1, :], \".g\")\n",
    "            plt.plot(hxTrue[0, :].flatten(),\n",
    "                     hxTrue[1, :].flatten(), \"-b\")\n",
    "            plt.plot(hxDR[0, :].flatten(),\n",
    "                     hxDR[1, :].flatten(), \"-k\")\n",
    "            plt.plot(hxEst[0, :].flatten(),\n",
    "                     hxEst[1, :].flatten(), \"-r\")\n",
    "            plot_covariance_ellipse(xEst, PEst)\n",
    "            plt.axis(\"equal\")\n",
    "            plt.grid(True)\n",
    "            plt.pause(0.001)\n",
    "\n",
    "\n"
   ]
  },
  {
   "cell_type": "markdown",
   "metadata": {
    "deletable": false,
    "editable": false,
    "nbgrader": {
     "cell_type": "markdown",
     "checksum": "53e208038b564efd9ada2e68ec78eba0",
     "grade": false,
     "grade_id": "cell-2a3234fbb888629e",
     "locked": true,
     "schema_version": 3,
     "solution": false,
     "task": false
    }
   },
   "source": [
    "<span style='color:Blue'> Die blaue Linie ist die Bodenwahrheit.  </span>\n",
    "\n",
    "Die schwarze Linie ist die Dead Reckoning Trajektorie.\n",
    "\n",
    "<span style='color:Green'> Der grüne Punkt ist die Measurement (z. B. GPS).  </span>\n",
    "\n",
    "<span style='color:Red'> Die rote Linie ist die geschätzte Trajektorie mit EKF.  </span>\n",
    "\n",
    "<span style='color:Red'> Die rote Ellipse ist die geschätzte Kovarianz-Ellipse mit EKF.  </span>\n"
   ]
  },
  {
   "cell_type": "markdown",
   "metadata": {
    "deletable": false,
    "editable": false,
    "nbgrader": {
     "cell_type": "markdown",
     "checksum": "0704de753309ff245cb5b402783cfc8a",
     "grade": false,
     "grade_id": "cell-0e844e5ae4f57d84",
     "locked": true,
     "schema_version": 3,
     "solution": false,
     "task": false
    }
   },
   "source": [
    "Herzlichen Glückwunsch, Sie haben soeben einen erweiterten Kalman-Filter zur Verfolgung der Roboterposition entworfen."
   ]
  }
 ],
 "metadata": {
  "kernelspec": {
   "display_name": "Python [conda env:class]",
   "language": "python",
   "name": "conda-env-class-py"
  },
  "language_info": {
   "codemirror_mode": {
    "name": "ipython",
    "version": 3
   },
   "file_extension": ".py",
   "mimetype": "text/x-python",
   "name": "python",
   "nbconvert_exporter": "python",
   "pygments_lexer": "ipython3",
   "version": "3.7.10"
  }
 },
 "nbformat": 4,
 "nbformat_minor": 1
}
