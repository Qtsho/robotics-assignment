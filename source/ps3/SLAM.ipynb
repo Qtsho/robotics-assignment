{
 "cells": [
  {
   "cell_type": "markdown",
   "metadata": {
    "nbgrader": {
     "grade": false,
     "grade_id": "jupyter",
     "locked": true,
     "schema_version": 3,
     "solution": false
    }
   },
   "source": [
    "<img src=\"fhlogo.png\" width=\"350\">"
   ]
  },
  {
   "cell_type": "markdown",
   "metadata": {
    "nbgrader": {
     "grade": false,
     "grade_id": "cell-df3821f200c449f2",
     "locked": true,
     "schema_version": 3,
     "solution": false,
     "task": false
    }
   },
   "source": [
    "# Lokalisierung mit erweitertem Kalman-Filter\n",
    "\n",
    "In this excesise we will use extended kalman filter to estimate the ego postion of the robot."
   ]
  },
  {
   "cell_type": "markdown",
   "metadata": {
    "nbgrader": {
     "grade": false,
     "grade_id": "cell-3123ece220e9aff6",
     "locked": true,
     "schema_version": 3,
     "solution": false,
     "task": false
    }
   },
   "source": [
    "---\n",
    "## Teil A: (Erweitertem) Kalman Filter ( points)\n",
    "\n",
    "Please complete all the answer below:"
   ]
  },
  {
   "cell_type": "markdown",
   "metadata": {
    "nbgrader": {
     "grade": false,
     "grade_id": "cell-2e34926c53fd13bb",
     "locked": true,
     "schema_version": 3,
     "solution": false,
     "task": false
    }
   },
   "source": [
    "---\n",
    "\n",
    "## Teil B: Filter Design ( point)\n",
    "\n",
    "In this simulation the robot has a state vector as follow:\n",
    "\n",
    "$$\\textbf{x}_t=[x_t, y_t, \\phi_t, v_t]$$\n",
    "where:\n",
    "\n",
    "x, y are a 2D x-y position, \n",
    "\n",
    "$\\phi$ is ego-orientation,\n",
    "\n",
    "v is ego-velocity.\n",
    "\n",
    "The robot has a speed sensor and a gyro sensor.\n",
    "\n",
    "So, the input vecor can be used as each time step\n",
    "\n",
    "$$\\textbf{u}_t=[v_t, \\omega_t]$$\n",
    "\n",
    "Also, the robot has a GNSS sensor, it means that the robot can observe x-y position at each time.\n",
    "\n",
    "$$\\textbf{z}_t=[x_t,y_t]$$\n"
   ]
  },
  {
   "cell_type": "markdown",
   "metadata": {
    "nbgrader": {
     "grade": false,
     "grade_id": "cell-2a3234fbb888629e",
     "locked": true,
     "schema_version": 3,
     "solution": false,
     "task": false
    }
   },
   "source": [
    "The blue line is true trajectory, the black line is dead reckoning\n",
    "trajectory,\n",
    "\n",
    "the green point is positioning observation (ex. GPS), and the red line\n",
    "is estimated trajectory with EKF.\n",
    "\n",
    "The red ellipse is estimated covariance ellipse with EKF.The sum of squares from 1 to 10 should be 385. Verify that this is the answer you get:"
   ]
  },
  {
   "cell_type": "code",
   "execution_count": null,
   "metadata": {},
   "outputs": [],
   "source": []
  }
 ],
 "metadata": {
  "celltoolbar": "Create Assignment",
  "kernelspec": {
   "display_name": "class",
   "language": "python",
   "name": "class"
  },
  "language_info": {
   "codemirror_mode": {
    "name": "ipython",
    "version": 3
   },
   "file_extension": ".py",
   "mimetype": "text/x-python",
   "name": "python",
   "nbconvert_exporter": "python",
   "pygments_lexer": "ipython3",
   "version": "3.7.10"
  }
 },
 "nbformat": 4,
 "nbformat_minor": 1
}
