{
 "cells": [
  {
   "cell_type": "markdown",
   "metadata": {},
   "source": [
    "<img src=\"fhlogo.png\" width=\"350\">"
   ]
  },
  {
   "cell_type": "markdown",
   "metadata": {},
   "source": [
    "# Mobile Robotik - Das Python Handbuch\n",
    "\n",
    "Dieses Handbuch verwendet Python 3\n",
    "\n",
    "Sie können Ihr Jupyterhub-Konto als IDE verwenden\n",
    "\n",
    "Loggen Sie sich in Ihr Jupyter Notebook Konto mit VPN auf:\n",
    "\n",
    "https://jupyterhub.lit.fh-dortmund.de:8000/ \n",
    "\n",
    "\n",
    "\n"
   ]
  },
  {
   "cell_type": "markdown",
   "metadata": {
    "id": "yPrHsQutnA85",
    "nbgrader": {
     "grade": false,
     "grade_id": "cell-89c136b18b3f4ef1",
     "locked": true,
     "schema_version": 3,
     "solution": false,
     "task": false
    }
   },
   "source": [
    "#  Python Syntax"
   ]
  },
  {
   "cell_type": "markdown",
   "metadata": {
    "colab": {
     "base_uri": "https://localhost:8080/",
     "height": 162
    },
    "id": "uhGRCWpStrNX",
    "nbgrader": {
     "grade": false,
     "grade_id": "cell-d83354390a135d25",
     "locked": true,
     "schema_version": 3,
     "solution": false,
     "task": false
    },
    "outputId": "22f8fcf7-294e-4d22-db46-ccad66a258b8"
   },
   "source": [
    "## Print"
   ]
  },
  {
   "cell_type": "code",
   "execution_count": 19,
   "metadata": {
    "colab": {
     "base_uri": "https://localhost:8080/"
    },
    "id": "Yk0YIVGvYdG0",
    "outputId": "8c165689-8a4d-4157-f51c-87ffbf9a3ece"
   },
   "outputs": [
    {
     "name": "stdout",
     "output_type": "stream",
     "text": [
      "Hallo Welt!\n"
     ]
    }
   ],
   "source": [
    "print(\"Hallo Welt!\")"
   ]
  },
  {
   "cell_type": "markdown",
   "metadata": {
    "id": "0GXJJfsromZu",
    "nbgrader": {
     "grade": false,
     "grade_id": "cell-6b02a96ce2403547",
     "locked": true,
     "schema_version": 3,
     "solution": false,
     "task": false
    }
   },
   "source": [
    "## **String drucken**"
   ]
  },
  {
   "cell_type": "code",
   "execution_count": 20,
   "metadata": {
    "colab": {
     "base_uri": "https://localhost:8080/"
    },
    "id": "cgp3rwyDop_I",
    "outputId": "4a9c030c-24a1-49c1-b9ee-49417f873493"
   },
   "outputs": [
    {
     "name": "stdout",
     "output_type": "stream",
     "text": [
      "Hello Max Mustermann\n",
      "Hello Max Mustermann\n",
      "Hello Max Mustermann\n"
     ]
    }
   ],
   "source": [
    "name = \"Max Mustermann\"\n",
    "print(\"Hello\", name)\n",
    "print(\"Hello {}\".format(name))\n",
    "print(\"Hello %s\" % name)"
   ]
  },
  {
   "cell_type": "markdown",
   "metadata": {
    "id": "Vn6cfeItphXa",
    "nbgrader": {
     "grade": false,
     "grade_id": "cell-6011cbd18b407066",
     "locked": true,
     "schema_version": 3,
     "solution": false,
     "task": false
    }
   },
   "source": [
    "## **Nummer drucken**"
   ]
  },
  {
   "cell_type": "code",
   "execution_count": 21,
   "metadata": {
    "colab": {
     "base_uri": "https://localhost:8080/"
    },
    "id": "4vIm9aCMpggd",
    "outputId": "5a71d7eb-f6f1-437c-83d6-98eb7b2e811f"
   },
   "outputs": [
    {
     "name": "stdout",
     "output_type": "stream",
     "text": [
      "The pie: 3.14159265359\n",
      "The pie: 3.14\n",
      "The pie: 3.14159265359\n",
      "The pie: 3.14\n",
      "The pie: 3.142\n"
     ]
    }
   ],
   "source": [
    "pie = 3.14159265359\n",
    "\n",
    "print(\"The pie:\", pie)\n",
    "print(\"The pie: %4.2f\" % pie)\n",
    "print(\"The pie: {}\".format(pie))\n",
    "print('The pie: {num:02.2f}'.format(num=pie))\n",
    "print('The pie: {num:02.3f}'.format(num=pie))"
   ]
  },
  {
   "cell_type": "markdown",
   "metadata": {
    "id": "NorDQO1Vt9eD",
    "nbgrader": {
     "grade": false,
     "grade_id": "cell-59197fff6eda3867",
     "locked": true,
     "schema_version": 3,
     "solution": false,
     "task": false
    }
   },
   "source": [
    "##  **Einrückung**"
   ]
  },
  {
   "cell_type": "markdown",
   "metadata": {
    "nbgrader": {
     "grade": false,
     "grade_id": "cell-e0ea298db91fe92c",
     "locked": true,
     "schema_version": 3,
     "solution": false,
     "task": false
    }
   },
   "source": [
    "Einrückung gehört bei Python zur Syntax, mann kann nicht einfach beliebig links Leerzeichen einfügen.\n"
   ]
  },
  {
   "cell_type": "code",
   "execution_count": 22,
   "metadata": {
    "colab": {
     "base_uri": "https://localhost:8080/",
     "height": 135
    },
    "id": "AZSzeW0tuRuz",
    "outputId": "dcaa1a44-e4f5-48cc-fdc4-dcd989ca9207"
   },
   "outputs": [
    {
     "ename": "IndentationError",
     "evalue": "unexpected indent (<ipython-input-22-23a89aaf9c6c>, line 2)",
     "output_type": "error",
     "traceback": [
      "\u001b[0;36m  File \u001b[0;32m\"<ipython-input-22-23a89aaf9c6c>\"\u001b[0;36m, line \u001b[0;32m2\u001b[0m\n\u001b[0;31m    print(\"Error\")  # <--- false Einrückung\u001b[0m\n\u001b[0m    ^\u001b[0m\n\u001b[0;31mIndentationError\u001b[0m\u001b[0;31m:\u001b[0m unexpected indent\n"
     ]
    }
   ],
   "source": [
    "print(\"Hello\")\n",
    "  print(\"Error\")  # <--- false Einrückung"
   ]
  },
  {
   "cell_type": "markdown",
   "metadata": {
    "id": "RPmZ4yfhu0ZP",
    "nbgrader": {
     "grade": false,
     "grade_id": "cell-273341344273028e",
     "locked": true,
     "schema_version": 3,
     "solution": false,
     "task": false
    }
   },
   "source": [
    "#  **Datenstrukturen**"
   ]
  },
  {
   "cell_type": "markdown",
   "metadata": {
    "id": "ki1gAJs3u_2e",
    "nbgrader": {
     "grade": false,
     "grade_id": "cell-d6edaf4414867621",
     "locked": true,
     "schema_version": 3,
     "solution": false,
     "task": false
    }
   },
   "source": [
    "##  **Listen**\n",
    "\n",
    "\n",
    "ist eine Sammlung, die geordnet und veränderbar ist. Erlaubt doppelte Mitglieder."
   ]
  },
  {
   "cell_type": "code",
   "execution_count": 23,
   "metadata": {
    "colab": {
     "base_uri": "https://localhost:8080/"
    },
    "id": "d5ecIGijvipG",
    "outputId": "de900b07-5643-4a76-8757-90b4857123a4"
   },
   "outputs": [
    {
     "name": "stdout",
     "output_type": "stream",
     "text": [
      "[]\n",
      "[0, 1, 2, 3]\n",
      "['Michael', 'Sebastian']\n",
      "Element auf index 0: a\n",
      "Element auf index 1: b\n",
      "Element auf index 1: z\n"
     ]
    }
   ],
   "source": [
    "my_list = []\n",
    "print(my_list)\n",
    "\n",
    "my_other_list = [0, 1, 2, 3]\n",
    "print(my_other_list)\n",
    "\n",
    "my_other_other_list = [\"Michael\", \"Sebastian\"]\n",
    "print(my_other_other_list)\n",
    "\n",
    "# Elemente zur leeren Liste hinzufügen\n",
    "my_list.append(\"a\")\n",
    "my_list.append(\"b\")\n",
    "my_list.append(\"c\")\n",
    "\n",
    "# Index verwenden, um Element in Liste zu erhalten\n",
    "index = 0\n",
    "print(\"Element auf index 0:\", my_list[index])\n",
    "\n",
    "# Change item in list\n",
    "index = 1\n",
    "print(\"Element auf index 1:\", my_list[index])\n",
    "\n",
    "my_list[index] = \"z\"\n",
    "print(\"Element auf index 1:\", my_list[index])"
   ]
  },
  {
   "cell_type": "markdown",
   "metadata": {
    "id": "0xYDZmpIwMje",
    "nbgrader": {
     "grade": false,
     "grade_id": "cell-c1fbca6de6d6598e",
     "locked": true,
     "schema_version": 3,
     "solution": false,
     "task": false
    }
   },
   "source": [
    "##  **Tuple**\n",
    "\n",
    "ist eine Sammlung, die geordnet und unveränderbar ist. Erlaubt doppelte Mitglieder."
   ]
  },
  {
   "cell_type": "code",
   "execution_count": 24,
   "metadata": {
    "colab": {
     "base_uri": "https://localhost:8080/"
    },
    "id": "U7jknHzTwOe4",
    "outputId": "125b7500-07ff-489b-b484-c6df757492c1"
   },
   "outputs": [
    {
     "name": "stdout",
     "output_type": "stream",
     "text": [
      "Tuple: (0, 1, 2, 3)\n",
      "Item at index 0: 0\n"
     ]
    }
   ],
   "source": [
    "my_tuple = (0, 1, 2, 3)\n",
    "\n",
    "print(\"Tuple:\", my_tuple)\n",
    "\n",
    "index = 0\n",
    "print(\"Item at index 0:\", my_tuple[index])"
   ]
  },
  {
   "cell_type": "code",
   "execution_count": 25,
   "metadata": {
    "colab": {
     "base_uri": "https://localhost:8080/",
     "height": 229
    },
    "id": "0kbQj2nkyu0_",
    "outputId": "5d918122-2801-4c6c-e46a-95294028990f"
   },
   "outputs": [
    {
     "name": "stdout",
     "output_type": "stream",
     "text": [
      "Item at index 1: 1\n"
     ]
    },
    {
     "ename": "TypeError",
     "evalue": "'tuple' object does not support item assignment",
     "output_type": "error",
     "traceback": [
      "\u001b[0;31m---------------------------------------------------------------------------\u001b[0m",
      "\u001b[0;31mTypeError\u001b[0m                                 Traceback (most recent call last)",
      "\u001b[0;32m<ipython-input-25-2d594a10cf83>\u001b[0m in \u001b[0;36m<module>\u001b[0;34m\u001b[0m\n\u001b[1;32m      3\u001b[0m \u001b[0mprint\u001b[0m\u001b[0;34m(\u001b[0m\u001b[0;34m\"Item at index 1:\"\u001b[0m\u001b[0;34m,\u001b[0m \u001b[0mmy_tuple\u001b[0m\u001b[0;34m[\u001b[0m\u001b[0mindex\u001b[0m\u001b[0;34m]\u001b[0m\u001b[0;34m)\u001b[0m\u001b[0;34m\u001b[0m\u001b[0;34m\u001b[0m\u001b[0m\n\u001b[1;32m      4\u001b[0m \u001b[0;34m\u001b[0m\u001b[0m\n\u001b[0;32m----> 5\u001b[0;31m \u001b[0mmy_tuple\u001b[0m\u001b[0;34m[\u001b[0m\u001b[0mindex\u001b[0m\u001b[0;34m]\u001b[0m \u001b[0;34m=\u001b[0m \u001b[0;34m\"z\"\u001b[0m  \u001b[0;31m# <--- resulted in a TypeError: 'tuple' object does not support item assignment\u001b[0m\u001b[0;34m\u001b[0m\u001b[0;34m\u001b[0m\u001b[0m\n\u001b[0m\u001b[1;32m      6\u001b[0m \u001b[0;31m# weil Tuple unveränderbar ist\u001b[0m\u001b[0;34m\u001b[0m\u001b[0;34m\u001b[0m\u001b[0;34m\u001b[0m\u001b[0m\n",
      "\u001b[0;31mTypeError\u001b[0m: 'tuple' object does not support item assignment"
     ]
    }
   ],
   "source": [
    "# Change item in tuple\n",
    "index = 1\n",
    "print(\"Item at index 1:\", my_tuple[index])\n",
    "\n",
    "my_tuple[index] = \"z\"  # <--- resulted in a TypeError: 'tuple' object does not support item assignment\n",
    "# weil Tuple unveränderbar ist"
   ]
  },
  {
   "cell_type": "markdown",
   "metadata": {
    "id": "ajOzy5OTzcMN",
    "nbgrader": {
     "grade": false,
     "grade_id": "cell-c5d7531180d23275",
     "locked": true,
     "schema_version": 3,
     "solution": false,
     "task": false
    }
   },
   "source": [
    "##  **Mengen**\n",
    "\n",
    "ist eine Sammlung, die nicht geordnet und nicht indiziert ist. Keine doppelten Mitglieder."
   ]
  },
  {
   "cell_type": "code",
   "execution_count": 26,
   "metadata": {
    "colab": {
     "base_uri": "https://localhost:8080/"
    },
    "id": "2qre0IJNzb0e",
    "outputId": "4e75cf11-931f-4d4c-ce2e-458e1e352607"
   },
   "outputs": [
    {
     "name": "stdout",
     "output_type": "stream",
     "text": [
      "{0, 1, 2, 3}\n"
     ]
    }
   ],
   "source": [
    "my_set = {0, 1, 2, 3}\n",
    "\n",
    "print(my_set)"
   ]
  },
  {
   "cell_type": "code",
   "execution_count": 27,
   "metadata": {
    "colab": {
     "base_uri": "https://localhost:8080/"
    },
    "id": "Ldx7W_FgzyI1",
    "outputId": "50be7b08-9857-4452-f2ba-2f30d90a10d9"
   },
   "outputs": [
    {
     "name": "stdout",
     "output_type": "stream",
     "text": [
      "{0, 1, 3}\n"
     ]
    }
   ],
   "source": [
    "my_set = {0, 1, 1, 3}\n",
    "\n",
    "print(my_set)"
   ]
  },
  {
   "cell_type": "code",
   "execution_count": 28,
   "metadata": {
    "colab": {
     "base_uri": "https://localhost:8080/",
     "height": 172
    },
    "id": "M9yX0MFgz1kq",
    "outputId": "7c21967b-4c54-40c8-fa67-4b3b72b49208"
   },
   "outputs": [
    {
     "ename": "TypeError",
     "evalue": "'set' object is not subscriptable",
     "output_type": "error",
     "traceback": [
      "\u001b[0;31m---------------------------------------------------------------------------\u001b[0m",
      "\u001b[0;31mTypeError\u001b[0m                                 Traceback (most recent call last)",
      "\u001b[0;32m<ipython-input-28-e1235973cac0>\u001b[0m in \u001b[0;36m<module>\u001b[0;34m\u001b[0m\n\u001b[0;32m----> 1\u001b[0;31m \u001b[0mprint\u001b[0m\u001b[0;34m(\u001b[0m\u001b[0mmy_set\u001b[0m\u001b[0;34m[\u001b[0m\u001b[0;36m1\u001b[0m\u001b[0;34m]\u001b[0m\u001b[0;34m)\u001b[0m \u001b[0;31m#ERROR: weil es ungeordnet ist\u001b[0m\u001b[0;34m\u001b[0m\u001b[0;34m\u001b[0m\u001b[0m\n\u001b[0m",
      "\u001b[0;31mTypeError\u001b[0m: 'set' object is not subscriptable"
     ]
    }
   ],
   "source": [
    "print(my_set[1]) #ERROR: weil es ungeordnet ist"
   ]
  },
  {
   "cell_type": "code",
   "execution_count": 29,
   "metadata": {
    "colab": {
     "base_uri": "https://localhost:8080/"
    },
    "id": "r4DPgrnZ0Wjc",
    "outputId": "cfbe78c5-a943-466f-c8a9-edba85ced094"
   },
   "outputs": [
    {
     "name": "stdout",
     "output_type": "stream",
     "text": [
      "0\n"
     ]
    }
   ],
   "source": [
    "e = next(iter(my_set))\n",
    "print(e)"
   ]
  },
  {
   "cell_type": "markdown",
   "metadata": {
    "id": "nELeIZyW0cMj",
    "nbgrader": {
     "grade": false,
     "grade_id": "cell-8b09cd3838662a21",
     "locked": true,
     "schema_version": 3,
     "solution": false,
     "task": false
    }
   },
   "source": [
    "##  **Dictionaries**\n",
    "\n",
    "ist eine Sammlung, die ungeordnet, veränderbar und indiziert ist. Keine doppelten Mitglieder."
   ]
  },
  {
   "cell_type": "code",
   "execution_count": 30,
   "metadata": {
    "colab": {
     "base_uri": "https://localhost:8080/"
    },
    "id": "pBhKeh_V0eZo",
    "outputId": "b582b547-31fd-4dfd-e652-15b127d9dc23"
   },
   "outputs": [
    {
     "name": "stdout",
     "output_type": "stream",
     "text": [
      "{'brand': 'Mercedes', 'klass': 'CLA', 'year': '2020'}\n",
      "Brand: Mercedes\n",
      "Klass: CLA\n",
      "Year : 2020\n"
     ]
    }
   ],
   "source": [
    "Auto = {\n",
    "  \"brand\": \"Mercedes\",\n",
    "  \"klass\": \"CLA\",\n",
    "  \"year\" : \"2020\"\n",
    "}\n",
    "\n",
    "print(Auto)\n",
    "print(\"Brand:\", Auto[\"brand\"])\n",
    "print(\"Klass:\", Auto[\"klass\"])\n",
    "print(\"Year :\", Auto[\"year\"])\n"
   ]
  },
  {
   "cell_type": "markdown",
   "metadata": {
    "id": "5ziv7dta1tKG",
    "nbgrader": {
     "grade": false,
     "grade_id": "cell-f46dca36c5239137",
     "locked": true,
     "schema_version": 3,
     "solution": false,
     "task": false
    }
   },
   "source": [
    "# **If-Anweisungen**"
   ]
  },
  {
   "cell_type": "code",
   "execution_count": 31,
   "metadata": {
    "colab": {
     "base_uri": "https://localhost:8080/"
    },
    "id": "kLydW54-1vgV",
    "outputId": "72bce0c6-eeba-4713-f767-b5ff49e03ef2"
   },
   "outputs": [
    {
     "name": "stdout",
     "output_type": "stream",
     "text": [
      "-- Bsp 1 --\n",
      "Licht ist aus\n",
      "\n",
      "-- Bsp 2 --\n",
      "Licht ist aus\n"
     ]
    }
   ],
   "source": [
    "light = False  # boolean data type: nur True oder False\n",
    "\n",
    "print(\"-- Bsp 1 --\")\n",
    "if light:\n",
    "  print(\"Licht ist an\")\n",
    "else:\n",
    "  print(\"Licht ist aus\")\n",
    "\n",
    "print(\"\\n-- Bsp 2 --\")\n",
    "if not light:\n",
    "  print(\"Licht ist aus\")\n",
    "else:\n",
    "  print(\"Licht ist an\")\n"
   ]
  },
  {
   "cell_type": "code",
   "execution_count": 32,
   "metadata": {
    "colab": {
     "base_uri": "https://localhost:8080/"
    },
    "id": "IiM3L7UB2rWh",
    "outputId": "622a690f-355d-4c32-91df-d2b9fbebb54d"
   },
   "outputs": [
    {
     "name": "stdout",
     "output_type": "stream",
     "text": [
      "Aktuelle Geschwindigkeit: 15 [km/h]\n",
      "Meh\n"
     ]
    }
   ],
   "source": [
    "velocity = 15\n",
    "max_vel = 100\n",
    "min_vel = 5\n",
    "\n",
    "if velocity >= max_vel:\n",
    "  print(\"Aktuelle Geschwindigkeit: %d [km/h]\" % velocity)\n",
    "  print(\"Was für ein Rennfahrer!\")\n",
    "\n",
    "elif velocity <= min_vel:\n",
    "  print(\"Aktuelle Geschwindigkeit: %d [km/h]\" % velocity)\n",
    "  print(\"Chicken!\")\n",
    "  \n",
    "else:\n",
    "  print(\"Aktuelle Geschwindigkeit: %d [km/h]\" % velocity)\n",
    "  print(\"Meh\")"
   ]
  },
  {
   "cell_type": "code",
   "execution_count": 33,
   "metadata": {
    "colab": {
     "base_uri": "https://localhost:8080/"
    },
    "id": "VpwT2Woq4fZq",
    "outputId": "54f250ef-53ca-4776-b7d0-d0b910db4d3b"
   },
   "outputs": [
    {
     "name": "stdout",
     "output_type": "stream",
     "text": [
      "Where's my beer?\n"
     ]
    }
   ],
   "source": [
    "chicken_cooked = True\n",
    "beer = False\n",
    "\n",
    "if chicken_cooked and beer:\n",
    "  print(\"What a meal!\")\n",
    "elif not beer and chicken_cooked:\n",
    "  print(\"Where's my beer?\")\n",
    "elif not chicken_cooked and beer:\n",
    "  print(\"The chicken is alive\")\n",
    "else:\n",
    "  print(\"The chicken is running and the beer is missing\")"
   ]
  },
  {
   "cell_type": "markdown",
   "metadata": {
    "id": "A61wG2nnGVv-",
    "nbgrader": {
     "grade": false,
     "grade_id": "cell-737dbae76a5685ea",
     "locked": true,
     "schema_version": 3,
     "solution": false,
     "task": false
    }
   },
   "source": [
    "#  **Loop**"
   ]
  },
  {
   "cell_type": "markdown",
   "metadata": {
    "id": "z2LRzaa3GnD5",
    "nbgrader": {
     "grade": false,
     "grade_id": "cell-2d4a81b1a65ac53e",
     "locked": true,
     "schema_version": 3,
     "solution": false,
     "task": false
    }
   },
   "source": [
    "##  **for-Anweisungen**"
   ]
  },
  {
   "cell_type": "code",
   "execution_count": 34,
   "metadata": {
    "colab": {
     "base_uri": "https://localhost:8080/"
    },
    "id": "TMKdmt9yGp0g",
    "outputId": "1ec3ab24-75ce-47a6-91d5-630f29b79127"
   },
   "outputs": [
    {
     "name": "stdout",
     "output_type": "stream",
     "text": [
      "0\n",
      "1\n",
      "2\n",
      "3\n",
      "4\n"
     ]
    }
   ],
   "source": [
    "for i in range(5):\n",
    "  print(i)"
   ]
  },
  {
   "cell_type": "code",
   "execution_count": 35,
   "metadata": {
    "colab": {
     "base_uri": "https://localhost:8080/"
    },
    "id": "NfXxW5rCGwW4",
    "outputId": "f8b73f9f-e1b6-42c3-88d6-a0ea04918d6f"
   },
   "outputs": [
    {
     "name": "stdout",
     "output_type": "stream",
     "text": [
      "a\n",
      "b\n",
      "c\n",
      "d\n"
     ]
    }
   ],
   "source": [
    "my_list = [\"a\", \"b\", \"c\", \"d\"]\n",
    "for item in my_list:\n",
    "  print(item)"
   ]
  },
  {
   "cell_type": "code",
   "execution_count": 36,
   "metadata": {
    "colab": {
     "base_uri": "https://localhost:8080/"
    },
    "id": "v2eF5fHXHP5s",
    "outputId": "9bf660ff-e2c6-4bb2-91bb-29d5a9083b17"
   },
   "outputs": [
    {
     "name": "stdout",
     "output_type": "stream",
     "text": [
      "a\n",
      "b\n",
      "c\n",
      "d\n"
     ]
    }
   ],
   "source": [
    "for index in range(len(my_list)):\n",
    "  print(my_list[index])"
   ]
  },
  {
   "cell_type": "code",
   "execution_count": 37,
   "metadata": {
    "colab": {
     "base_uri": "https://localhost:8080/"
    },
    "id": "QM1_hNm0HXQt",
    "outputId": "e4d5b5ce-9c50-42fd-83cf-b248911e8c48"
   },
   "outputs": [
    {
     "name": "stdout",
     "output_type": "stream",
     "text": [
      "0 a\n",
      "1 b\n",
      "2 c\n",
      "3 d\n"
     ]
    }
   ],
   "source": [
    "for index, item in enumerate(my_list):\n",
    "  print(index, item)"
   ]
  },
  {
   "cell_type": "code",
   "execution_count": 38,
   "metadata": {
    "colab": {
     "base_uri": "https://localhost:8080/"
    },
    "id": "Yz8Jv3mhHf02",
    "outputId": "23afdd40-af98-4b16-b2fa-737a6673e190"
   },
   "outputs": [
    {
     "name": "stdout",
     "output_type": "stream",
     "text": [
      "a e\n",
      "b f\n",
      "c g\n",
      "d h\n"
     ]
    }
   ],
   "source": [
    "my_other_list = [\"e\", \"f\", \"g\", \"h\"]\n",
    "for item1, item2 in zip(my_list, my_other_list):\n",
    "  print(item1, item2)"
   ]
  },
  {
   "cell_type": "code",
   "execution_count": 39,
   "metadata": {
    "colab": {
     "base_uri": "https://localhost:8080/"
    },
    "id": "MexC5znxIdgN",
    "outputId": "ab3f763f-a54e-45c8-df56-116c496e0e6d"
   },
   "outputs": [
    {
     "name": "stdout",
     "output_type": "stream",
     "text": [
      "0\n",
      "2\n",
      "4\n",
      "6\n",
      "8\n"
     ]
    }
   ],
   "source": [
    "for i in range(0, 10, 2):\n",
    "  print(i)"
   ]
  },
  {
   "cell_type": "code",
   "execution_count": 40,
   "metadata": {
    "colab": {
     "base_uri": "https://localhost:8080/"
    },
    "id": "oRt5PctyIieD",
    "outputId": "a5ac5f55-b034-4698-b667-9f0f08522285"
   },
   "outputs": [
    {
     "name": "stdout",
     "output_type": "stream",
     "text": [
      "0\n",
      "2\n",
      "4\n",
      "6\n",
      "8\n",
      "10\n"
     ]
    }
   ],
   "source": [
    "for i in range(0, 10+2, 2):\n",
    "  print(i)"
   ]
  },
  {
   "cell_type": "markdown",
   "metadata": {
    "id": "NochyAGqH2mj",
    "nbgrader": {
     "grade": false,
     "grade_id": "cell-323cba3c34461af7",
     "locked": true,
     "schema_version": 3,
     "solution": false,
     "task": false
    }
   },
   "source": [
    "##  **while-Anweisungen**"
   ]
  },
  {
   "cell_type": "code",
   "execution_count": 41,
   "metadata": {
    "colab": {
     "base_uri": "https://localhost:8080/"
    },
    "id": "lAXGCnp3H1z6",
    "outputId": "c22d7071-1398-4ba7-d12e-feba22fc54ef"
   },
   "outputs": [
    {
     "name": "stdout",
     "output_type": "stream",
     "text": [
      "0\n",
      "1\n",
      "2\n",
      "3\n",
      "4\n"
     ]
    }
   ],
   "source": [
    "index = 0\n",
    "while index < 5:\n",
    "  print(index)\n",
    "  index += 1  # bedeutet index = index + 1"
   ]
  },
  {
   "cell_type": "markdown",
   "metadata": {
    "id": "UYbVpEVsItjY",
    "nbgrader": {
     "grade": false,
     "grade_id": "cell-7984e797542bce5d",
     "locked": true,
     "schema_version": 3,
     "solution": false,
     "task": false
    }
   },
   "source": [
    "#  **Functionen definieren**"
   ]
  },
  {
   "cell_type": "code",
   "execution_count": 42,
   "metadata": {
    "colab": {
     "base_uri": "https://localhost:8080/"
    },
    "id": "496mn0pOIwYE",
    "outputId": "f9f95061-7abc-462a-e089-1f013bb578e7"
   },
   "outputs": [
    {
     "name": "stdout",
     "output_type": "stream",
     "text": [
      "2\n"
     ]
    }
   ],
   "source": [
    "def calculate_sum(a, b):\n",
    "  sum = a + b\n",
    "  return sum\n",
    "\n",
    "sum = calculate_sum(1, 1)\n",
    "print(sum)"
   ]
  },
  {
   "cell_type": "code",
   "execution_count": 43,
   "metadata": {
    "colab": {
     "base_uri": "https://localhost:8080/"
    },
    "id": "T5uBRJEyJArC",
    "outputId": "c4cc5e89-481e-47d8-b0ab-664bf36b8fed"
   },
   "outputs": [
    {
     "name": "stdout",
     "output_type": "stream",
     "text": [
      "Your height is 172 cm\n"
     ]
    }
   ],
   "source": [
    "def calculate_height(your_height):\n",
    "  print(\"Your height is {} cm\".format(your_height))\n",
    "\n",
    "calculate_height(172)"
   ]
  },
  {
   "cell_type": "markdown",
   "metadata": {
    "id": "tZYroN0FJtmI",
    "nbgrader": {
     "grade": false,
     "grade_id": "cell-01ae22105f145248",
     "locked": true,
     "schema_version": 3,
     "solution": false,
     "task": false
    }
   },
   "source": [
    "#  **Objektorientierte Programmierung (OOP)**\n",
    "\n",
    "Dies ist eine kurze Einführung in OOP mit Python\n",
    "\n",
    "\n",
    "Das Grundkonzept der objektorientierten Programmierung besteht darin, Daten und deren Funktionen (Methoden), - d.h. Funktionen, die auf diese Daten angewendet werden können - in einem Objekt zusammenzufassen und nach außen zu kapseln, so dass Methoden fremder Objekte diese Daten nicht direkt manipulieren können.\n",
    "\n",
    "Objekte werden über Klassen definiert.\n",
    "\n",
    "Eine Klasse ist eine formale Beschreibung, wie ein Objekt beschaffen ist, d.h. welche Attribute und welche Methoden sie hat.\n",
    "\n",
    "Eine Klasse darf nicht mit einem Objekt verwechselt werden. Statt Objekt spricht man auch von einer Instanz einer Klasse."
   ]
  },
  {
   "cell_type": "markdown",
   "metadata": {
    "id": "Spy0pIrtKQ78",
    "nbgrader": {
     "grade": false,
     "grade_id": "cell-3259943b30f1862c",
     "locked": true,
     "schema_version": 3,
     "solution": false,
     "task": false
    }
   },
   "source": [
    "## **Klassen**"
   ]
  },
  {
   "cell_type": "code",
   "execution_count": 48,
   "metadata": {
    "id": "LgcQiUEhKSSs"
   },
   "outputs": [],
   "source": [
    "class Auto:\n",
    "    \n",
    "  #Konstruktor\n",
    "  def __init__(self, speed, color, price):\n",
    "    self.speed = speed\n",
    "    self.color = color\n",
    "    self.price = price\n",
    "\n",
    "  def info(self):\n",
    "    print(\"{} car with maximum speed {} km/h and the price of {} euros\".format(self.color, self.speed, self.price))\n",
    "\n",
    "  def repaint(self, new_color):\n",
    "    self.color = new_color\n",
    "    print(\"Car has been repainted to %s\" % self.color)"
   ]
  },
  {
   "cell_type": "markdown",
   "metadata": {},
   "source": [
    "Erzeugen eines Objekts Myauto aus der Klasse Auto:"
   ]
  },
  {
   "cell_type": "code",
   "execution_count": 45,
   "metadata": {
    "id": "VPp5LtcfLYB4"
   },
   "outputs": [],
   "source": [
    "MyAuto = Auto(100, \"red\", 20000)"
   ]
  },
  {
   "cell_type": "code",
   "execution_count": null,
   "metadata": {},
   "outputs": [],
   "source": []
  },
  {
   "cell_type": "code",
   "execution_count": 28,
   "metadata": {
    "colab": {
     "base_uri": "https://localhost:8080/"
    },
    "id": "xS06iBktLtW9",
    "outputId": "402eb6f0-94e3-4d41-eba0-6971581f745c"
   },
   "outputs": [
    {
     "name": "stdout",
     "output_type": "stream",
     "text": [
      "100\n",
      "red\n",
      "20000\n"
     ]
    }
   ],
   "source": [
    "print(MyAuto.speed)\n",
    "print(MyAuto.color)\n",
    "print(MyAuto.price)"
   ]
  },
  {
   "cell_type": "code",
   "execution_count": 29,
   "metadata": {
    "colab": {
     "base_uri": "https://localhost:8080/"
    },
    "id": "SIVe5TStLnSm",
    "outputId": "524a405e-f599-4409-8110-8b7cebf84dad"
   },
   "outputs": [
    {
     "name": "stdout",
     "output_type": "stream",
     "text": [
      "red car with maximum speed 100 km/h and the price of 20000 euros\n",
      "Car has been repainted to blue\n",
      "blue car with maximum speed 100 km/h and the price of 20000 euros\n"
     ]
    }
   ],
   "source": [
    "MyAuto.info()\n",
    "MyAuto.repaint(\"blue\")\n",
    "MyAuto.info()"
   ]
  },
  {
   "cell_type": "markdown",
   "metadata": {
    "id": "dcdIJruiN7hL",
    "nbgrader": {
     "grade": false,
     "grade_id": "cell-c0e748fb2f357a84",
     "locked": true,
     "schema_version": 3,
     "solution": false,
     "task": false
    }
   },
   "source": [
    "#  **Python Paket und Modul**"
   ]
  },
  {
   "cell_type": "code",
   "execution_count": 30,
   "metadata": {
    "colab": {
     "base_uri": "https://localhost:8080/"
    },
    "id": "5O-Tw1RLN_XZ",
    "outputId": "9716cb33-6f02-4159-9343-78f5c48bdc0b"
   },
   "outputs": [
    {
     "name": "stdout",
     "output_type": "stream",
     "text": [
      "17\n"
     ]
    }
   ],
   "source": [
    "import random\n",
    "\n",
    "random_number = random.randint(0, 100)\n",
    "print(random_number)"
   ]
  },
  {
   "cell_type": "code",
   "execution_count": 31,
   "metadata": {
    "colab": {
     "base_uri": "https://localhost:8080/"
    },
    "id": "ZQIdPTZ4OOoX",
    "outputId": "ec7395b4-06a0-475a-b5b0-e3d5fa64b330"
   },
   "outputs": [
    {
     "name": "stdout",
     "output_type": "stream",
     "text": [
      "The current time is 2021-04-20 12:37:48.207805\n"
     ]
    }
   ],
   "source": [
    "from datetime import datetime\n",
    "\n",
    "print(\"The current time is {}\".format(datetime.now()))"
   ]
  },
  {
   "cell_type": "markdown",
   "metadata": {
    "id": "VwMWDHKZOidP",
    "nbgrader": {
     "grade": false,
     "grade_id": "cell-d2be56587e1c81f5",
     "locked": true,
     "schema_version": 3,
     "solution": false,
     "task": false
    }
   },
   "source": [
    "##  **math Modul**"
   ]
  },
  {
   "cell_type": "markdown",
   "metadata": {},
   "source": [
    "### Zusätzliche Informationen: \n",
    "https://www.grund-wissen.de/informatik/python/scipy/mathematik-mit-standard-modulen.html"
   ]
  },
  {
   "cell_type": "code",
   "execution_count": 32,
   "metadata": {
    "colab": {
     "base_uri": "https://localhost:8080/"
    },
    "id": "ArlIMgdgOknI",
    "outputId": "15270699-e24e-4dcd-9f64-85a554d61a43"
   },
   "outputs": [
    {
     "name": "stdout",
     "output_type": "stream",
     "text": [
      "----------\n",
      "25.0\n",
      "----------\n",
      "3.0\n",
      "----------\n",
      "3\n",
      "2\n",
      "----------\n",
      "10.0\n",
      "----------\n",
      "1.2246467991473532e-16\n",
      "0.7071067811865476\n"
     ]
    }
   ],
   "source": [
    "import math\n",
    "\n",
    "print(\"-\" * 10)\n",
    "a = 5\n",
    "print(math.pow(a, 2))\n",
    "\n",
    "print(\"-\" * 10)\n",
    "b = 9\n",
    "print(math.sqrt(b))\n",
    "\n",
    "print(\"-\" * 10)\n",
    "c = 2.6\n",
    "print(math.ceil(c))\n",
    "print(math.floor(c))\n",
    "\n",
    "print(\"-\" * 10)\n",
    "d = -10\n",
    "print(math.fabs(d))\n",
    "\n",
    "print(\"-\" * 10)\n",
    "deg = math.pi\n",
    "print(math.sin(deg))  # <--- 0\n",
    "\n",
    "deg = math.pi / 4\n",
    "print(math.cos(deg))"
   ]
  },
  {
   "cell_type": "markdown",
   "metadata": {
    "id": "wEgktjV2SRQk",
    "nbgrader": {
     "grade": false,
     "grade_id": "cell-1ad71b6ee3aeb36b",
     "locked": true,
     "schema_version": 3,
     "solution": false,
     "task": false
    }
   },
   "source": [
    "##  **numpy Paket (https://numpy.org/doc/stable/contents.html)**\n",
    "\n",
    "\n",
    "Numerisches Rechnen mit Python, Verwendet für wissenschaftliches Rechnen.\n",
    "\n",
    "Beinhaltet Lineare Algebra, Fast Fourier-Transformation, Zufallszahlen, etc.\n",
    "\n",
    "\n",
    "### numpy für Matlab-Anwender:\n",
    "\n",
    "https://numpy.org/doc/stable/user/numpy-for-matlab-users.html\n",
    "\n",
    "### Zusätzliche Informationen: \n",
    "\n",
    "https://www.grund-wissen.de/informatik/python/scipy/numpy.html\n",
    "\n",
    "https://scipy-lectures.org/intro/numpy/operations.html"
   ]
  },
  {
   "cell_type": "code",
   "execution_count": 33,
   "metadata": {
    "colab": {
     "base_uri": "https://localhost:8080/"
    },
    "id": "LJh3JVluSTxs",
    "outputId": "9451db3e-2c2b-44e5-dede-f291e28b0356"
   },
   "outputs": [
    {
     "name": "stdout",
     "output_type": "stream",
     "text": [
      "[0 1 2 3 4 5 6 7 8 9]\n",
      "[0 2 4 6 8]\n"
     ]
    }
   ],
   "source": [
    "import numpy as np\n",
    "\n",
    "array_1 = np.arange(0, 10, 1)\n",
    "print(array_1)\n",
    "\n",
    "array_2 = np.arange(0, 10, 2)\n",
    "print(array_2)"
   ]
  },
  {
   "cell_type": "code",
   "execution_count": 34,
   "metadata": {
    "colab": {
     "base_uri": "https://localhost:8080/"
    },
    "id": "MxAlGfILSxam",
    "outputId": "9dfd62d7-19f4-4f52-eeea-9bc0531f60f6"
   },
   "outputs": [
    {
     "name": "stdout",
     "output_type": "stream",
     "text": [
      "[0. 0. 0. 0. 0.]\n"
     ]
    }
   ],
   "source": [
    "array_0 = np.zeros(5)\n",
    "print(array_0)"
   ]
  },
  {
   "cell_type": "code",
   "execution_count": 35,
   "metadata": {
    "colab": {
     "base_uri": "https://localhost:8080/"
    },
    "id": "UcrfqScqS4A1",
    "outputId": "56d6f030-dfd7-4691-ab64-bbf5272a518f"
   },
   "outputs": [
    {
     "name": "stdout",
     "output_type": "stream",
     "text": [
      "[[0 1 2]\n",
      " [2 1 0]]\n",
      "--------------------\n",
      "[[6 5 4]\n",
      " [4 5 6]]\n"
     ]
    }
   ],
   "source": [
    "array_4 = np.array([[0, 1, 2], [2, 1, 0]])\n",
    "print(array_4)\n",
    "\n",
    "print(\"--\" * 10)\n",
    "array_5 = np.array([[6, 5, 4], [4, 5, 6]])\n",
    "print(array_5)"
   ]
  },
  {
   "cell_type": "code",
   "execution_count": 36,
   "metadata": {
    "colab": {
     "base_uri": "https://localhost:8080/"
    },
    "id": "0s5CODmITHqH",
    "outputId": "d9320d87-8faf-4f81-e9b9-455bf60c4651"
   },
   "outputs": [
    {
     "name": "stdout",
     "output_type": "stream",
     "text": [
      "[[6 6 6]\n",
      " [6 6 6]]\n"
     ]
    }
   ],
   "source": [
    "result = array_4 + array_5\n",
    "print(result)"
   ]
  },
  {
   "cell_type": "code",
   "execution_count": 37,
   "metadata": {
    "colab": {
     "base_uri": "https://localhost:8080/"
    },
    "id": "b_f8A964VXWa",
    "outputId": "c2ffc79b-d137-492a-9aba-c202d1d4ff66"
   },
   "outputs": [
    {
     "name": "stdout",
     "output_type": "stream",
     "text": [
      "[[0 5 8]\n",
      " [8 5 0]]\n"
     ]
    }
   ],
   "source": [
    "result = array_4 * array_5\n",
    "print(result)"
   ]
  },
  {
   "cell_type": "code",
   "execution_count": 38,
   "metadata": {
    "colab": {
     "base_uri": "https://localhost:8080/"
    },
    "id": "ils9jLPBVZmQ",
    "outputId": "09950a89-73a2-42c1-9ede-ee6b5fddd685"
   },
   "outputs": [
    {
     "name": "stdout",
     "output_type": "stream",
     "text": [
      "Shape of array 4: (2, 3)\n",
      "Shape of array 6: (3, 2)\n",
      "Dot product result:\n",
      " [[5 8]\n",
      " [1 4]]\n",
      "Dot product using @ result:\n",
      " [[5 8]\n",
      " [1 4]]\n"
     ]
    }
   ],
   "source": [
    "array_6 = np.array([[0, 1], [1, 2], [2, 3]])\n",
    "\n",
    "print(\"Shape of array 4:\", array_4.shape)\n",
    "print(\"Shape of array 6:\", array_6.shape)\n",
    "\n",
    "result = np.dot(array_4, array_6)\n",
    "result2 = array_4 @ array_6\n",
    "\n",
    "\n",
    "print(\"Dot product result:\\n\", result)\n",
    "print(\"Dot product using @ result:\\n\", result2)"
   ]
  },
  {
   "cell_type": "markdown",
   "metadata": {
    "id": "k4TnDrnbWSe5",
    "nbgrader": {
     "grade": false,
     "grade_id": "cell-db5f2e39413f0663",
     "locked": true,
     "schema_version": 3,
     "solution": false,
     "task": false
    }
   },
   "source": [
    "##  **Plotten  Paket: **Matplotlib** (https://matplotlib.org/)\n",
    "\n",
    "Matplotlib ist eine Plotting-Bibliothek für die Programmiersprache Python"
   ]
  },
  {
   "cell_type": "markdown",
   "metadata": {
    "nbgrader": {
     "grade": false,
     "grade_id": "cell-8577a70ffb65a8e9",
     "locked": true,
     "schema_version": 3,
     "solution": false,
     "task": false
    }
   },
   "source": [
    "### Zusätzliche Informationen: \n",
    "\n",
    "\n",
    "https://www.grund-wissen.de/informatik/python/scipy/matplotlib.html"
   ]
  },
  {
   "cell_type": "code",
   "execution_count": 39,
   "metadata": {
    "colab": {
     "base_uri": "https://localhost:8080/",
     "height": 265
    },
    "id": "ok6LiOQYWcfk",
    "outputId": "9c49c5b9-02a6-4d01-8102-d72ac51476c8"
   },
   "outputs": [
    {
     "data": {
      "image/png": "[encoded data removed]",
      "text/plain": [
       "<Figure size 432x288 with 1 Axes>"
      ]
     },
     "metadata": {
      "needs_background": "light"
     },
     "output_type": "display_data"
    }
   ],
   "source": [
    "import matplotlib.pyplot as plt\n",
    "import numpy as np\n",
    "\n",
    "y1 = np.array([1, 3, 9, 5, 2, 1, 1])\n",
    "y2 = np.array([4, 5, 5, 7, 9, 8, 6])\n",
    "x = np.arange(0, len(y1))\n",
    "\n",
    "# The lines \n",
    "plt.plot(x, y1)\n",
    "plt.plot(x, y2)\n",
    "\n",
    "# The dots\n",
    "plt.scatter(x, y1)\n",
    "plt.scatter(x, y2)\n",
    "plt.show()"
   ]
  },
  {
   "cell_type": "markdown",
   "metadata": {
    "id": "jXs-yScqZAqQ",
    "nbgrader": {
     "grade": false,
     "grade_id": "cell-c822cec3dacaedc6",
     "locked": true,
     "schema_version": 3,
     "solution": false,
     "task": false
    }
   },
   "source": [
    "### **Stil-Anpassung**  \n",
    "Quelle: [Dominik Haitz ](https://github.com/dhaitz/mplcyberpunk)"
   ]
  },
  {
   "cell_type": "code",
   "execution_count": 40,
   "metadata": {
    "colab": {
     "base_uri": "https://localhost:8080/",
     "height": 262
    },
    "id": "6il8mQ3wYXiI",
    "outputId": "223898e5-7ae7-47aa-fbaf-58b4bd07b241"
   },
   "outputs": [
    {
     "data": {
      "image/png": "[encoded data removed]",
      "text/plain": [
       "<Figure size 432x288 with 1 Axes>"
      ]
     },
     "metadata": {},
     "output_type": "display_data"
    }
   ],
   "source": [
    "import pandas as pd\n",
    "import matplotlib.pyplot as plt\n",
    "\n",
    "\n",
    "plt.style.use(\"dark_background\")\n",
    "\n",
    "for param in ['text.color', 'axes.labelcolor', 'xtick.color', 'ytick.color']:\n",
    "    plt.rcParams[param] = '0.9'  # very light grey\n",
    "\n",
    "for param in ['figure.facecolor', 'axes.facecolor', 'savefig.facecolor']:\n",
    "    plt.rcParams[param] = '#212946'  # bluish dark grey\n",
    "\n",
    "colors = [\n",
    "    '#08F7FE',  # teal/cyan\n",
    "    '#FE53BB',  # pink\n",
    "    '#F5D300',  # yellow\n",
    "    '#00ff41',  # matrix green\n",
    "]\n",
    "\n",
    "\n",
    "df = pd.DataFrame({'A': [1, 3, 9, 5, 2, 1, 1],\n",
    "                   'B': [4, 5, 5, 7, 9, 8, 6]})\n",
    "\n",
    "fig, ax = plt.subplots()\n",
    "\n",
    "df.plot(marker='o', color=colors, ax=ax)\n",
    "\n",
    "# Redraw the data with low alpha and slighty increased linewidth:\n",
    "n_shades = 10\n",
    "diff_linewidth = 1.05\n",
    "alpha_value = 0.3 / n_shades\n",
    "\n",
    "for n in range(1, n_shades+1):\n",
    "\n",
    "    df.plot(marker='o',\n",
    "            linewidth=2+(diff_linewidth*n),\n",
    "            alpha=alpha_value,\n",
    "            legend=False,\n",
    "            ax=ax,\n",
    "            color=colors)\n",
    "\n",
    "# Color the areas below the lines:\n",
    "for column, color in zip(df, colors):\n",
    "    ax.fill_between(x=df.index,\n",
    "                    y1=df[column].values,\n",
    "                    y2=[0] * len(df),\n",
    "                    color=color,\n",
    "                    alpha=0.1)\n",
    "\n",
    "ax.grid(color='#2A3459')\n",
    "\n",
    "ax.set_xlim([ax.get_xlim()[0] - 0.2, ax.get_xlim()[1] + 0.2])  # to not have the markers cut off\n",
    "ax.set_ylim(0)\n",
    "\n",
    "plt.show()"
   ]
  }
 ],
 "metadata": {
  "colab": {
   "collapsed_sections": [],
   "name": "Python Anleitung",
   "provenance": []
  },
  "kernelspec": {
   "display_name": "Python [conda env:class]",
   "language": "python",
   "name": "conda-env-class-py"
  },
  "language_info": {
   "codemirror_mode": {
    "name": "ipython",
    "version": 3
   },
   "file_extension": ".py",
   "mimetype": "text/x-python",
   "name": "python",
   "nbconvert_exporter": "python",
   "pygments_lexer": "ipython3",
   "version": "3.7.10"
  }
 },
 "nbformat": 4,
 "nbformat_minor": 1
}
