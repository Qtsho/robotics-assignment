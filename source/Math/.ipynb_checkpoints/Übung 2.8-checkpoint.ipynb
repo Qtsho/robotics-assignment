{
 "cells": [
  {
   "cell_type": "markdown",
   "id": "forced-charm",
   "metadata": {},
   "source": [
    "<img src=\"2_8_1.png\" width=\"700\">\n",
    "<img src=\"2_8.png\" width=\"700\">"
   ]
  },
  {
   "cell_type": "code",
   "execution_count": null,
   "id": "falling-waterproof",
   "metadata": {},
   "outputs": [],
   "source": []
  }
 ],
 "metadata": {
  "kernelspec": {
   "display_name": "Python [conda env:class]",
   "language": "python",
   "name": "conda-env-class-py"
  },
  "language_info": {
   "codemirror_mode": {
    "name": "ipython",
    "version": 3
   },
   "file_extension": ".py",
   "mimetype": "text/x-python",
   "name": "python",
   "nbconvert_exporter": "python",
   "pygments_lexer": "ipython3",
   "version": "3.7.10"
  }
 },
 "nbformat": 4,
 "nbformat_minor": 5
}
