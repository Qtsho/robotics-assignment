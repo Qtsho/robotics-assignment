{
 "cells": [
  {
   "cell_type": "markdown",
   "id": "original-niger",
   "metadata": {},
   "source": [
    "<img src=\"2_1.png\" width=\"950\">"
   ]
  },
  {
   "cell_type": "markdown",
   "id": "behavioral-modern",
   "metadata": {},
   "source": [
    "# Python Script\n",
    "\n",
    "X ist die Summe der Augenzahlen\n",
    "\n",
    "Zuerst müssen wir die Bibliothek importieren"
   ]
  },
  {
   "cell_type": "code",
   "execution_count": 70,
   "id": "cardiovascular-healthcare",
   "metadata": {},
   "outputs": [],
   "source": [
    "import random as rd\n",
    "from collections import Counter\n",
    "import matplotlib.pyplot as plt\n",
    "import numpy as np\n",
    "from scipy.stats import norm"
   ]
  },
  {
   "cell_type": "code",
   "execution_count": 81,
   "id": "twenty-wilson",
   "metadata": {},
   "outputs": [
    {
     "data": {
      "text/plain": [
       "Text(0.5, 1.0, 'Fit results: mu = 833.33,  std = 495.85')"
      ]
     },
     "execution_count": 81,
     "metadata": {},
     "output_type": "execute_result"
    },
    {
     "data": {
      "image/png": "[encoded data removed]",
      "text/plain": [
       "<Figure size 432x288 with 1 Axes>"
      ]
     },
     "metadata": {
      "needs_background": "light"
     },
     "output_type": "display_data"
    }
   ],
   "source": [
    "n_wuerfel = 2\n",
    "summe = 0\n",
    "rolls= 10000\n",
    "\n",
    "# Generate some data for this demonstration.\n",
    "\n",
    "# Return random number between 1 and 6\n",
    "def wuerfel():\n",
    "    return rd.randint(1, 6)\n",
    "\n",
    "def wuerfeln():\n",
    "    a = wuerfel()\n",
    "    b = wuerfel()\n",
    "    summe = a + b -1\n",
    "    return summe\n",
    "\n",
    "result = np.zeros(12)\n",
    "for i in range(rolls):\n",
    "    result [wuerfeln()-1] += 1\n",
    "    \n",
    "\n",
    "mu = np.mean(result)\n",
    "std = np.std(result)\n",
    "# Plot the histogram.\n",
    "plt.hist(result, bins=12, density=True, alpha=0.5, color='g')\n",
    "\n",
    "\n",
    "\n",
    "# Plot the PDF.\n",
    "xmin, xmax = plt.xlim()\n",
    "x = np.linspace(xmin, xmax, 100)\n",
    "p = norm.pdf(x, mu, std)\n",
    "plt.plot(x, p, 'k', linewidth=2)\n",
    "title = \"Fit results: mu = %.2f,  std = %.2f\" % (mu, std)\n",
    "plt.title(title)\n",
    "\n"
   ]
  },
  {
   "cell_type": "code",
   "execution_count": 82,
   "id": "material-configuration",
   "metadata": {},
   "outputs": [
    {
     "name": "stdout",
     "output_type": "stream",
     "text": [
      "[ 275.  524.  888. 1171. 1364. 1654. 1379. 1123.  805.  537.  280.    0.]\n"
     ]
    }
   ],
   "source": [
    "\n",
    "print (result)"
   ]
  },
  {
   "cell_type": "code",
   "execution_count": 85,
   "id": "attended-service",
   "metadata": {},
   "outputs": [
    {
     "name": "stdout",
     "output_type": "stream",
     "text": [
      "[-0.49532523  0.46138251  0.960153   -1.23376588 -0.55679507  1.73350867\n",
      "  0.64088476  0.25276713  0.46191322  1.09601663 -0.0497197  -0.97501139\n",
      "  0.71065499  0.76349503  1.21932236  1.90832261 -0.9531632   0.23963107\n",
      " -1.00600707 -1.31195504 -0.57309319 -0.02427051 -0.49711257  0.27949294\n",
      " -0.11095432  1.18044079 -0.78169127 -1.84688554 -2.21509288 -0.69772709\n",
      "  1.78506817 -0.37660917 -0.39909627  0.38525193 -1.19041647  0.42467886\n",
      "  2.31050897  1.25569336 -0.15553348 -0.04915012  0.14558364 -0.89463527\n",
      "  1.06102676  0.3085698   0.40134515 -0.25214765  0.34365282 -0.00418526\n",
      " -1.47952452  1.0392689  -0.50006657 -1.00446127 -0.52145008  0.74034385\n",
      " -0.09919924 -1.61886371 -0.6955844  -0.65386707  0.76394662  1.78032598\n",
      "  0.46425275  0.45343452 -0.73014474  0.33677092 -0.85297045  0.20472992\n",
      "  0.1655387   1.93625149  2.01839096  1.11845755  0.03996921  1.34830009\n",
      " -1.06569288  0.14526725  1.05174281 -2.23460591 -1.22866915 -1.0627931\n",
      "  0.08946687 -0.26510211 -0.48521483  0.26305412  1.97970565 -0.34999944\n",
      "  0.08489245 -0.10176871  0.80874311  0.93210022  1.80150931  0.48592356\n",
      " -0.30016045  1.05636934 -0.7067088  -1.05545137 -0.49675523  0.27379436\n",
      "  0.6222242  -0.15174633  2.38798287  0.81858073]\n"
     ]
    }
   ],
   "source": [
    "x = np.random.randn(100)\n",
    "print (x)"
   ]
  },
  {
   "cell_type": "code",
   "execution_count": null,
   "id": "banner-pressing",
   "metadata": {},
   "outputs": [],
   "source": [
    "pr"
   ]
  }
 ],
 "metadata": {
  "kernelspec": {
   "display_name": "Python [conda env:class]",
   "language": "python",
   "name": "conda-env-class-py"
  },
  "language_info": {
   "codemirror_mode": {
    "name": "ipython",
    "version": 3
   },
   "file_extension": ".py",
   "mimetype": "text/x-python",
   "name": "python",
   "nbconvert_exporter": "python",
   "pygments_lexer": "ipython3",
   "version": "3.7.10"
  }
 },
 "nbformat": 4,
 "nbformat_minor": 5
}
