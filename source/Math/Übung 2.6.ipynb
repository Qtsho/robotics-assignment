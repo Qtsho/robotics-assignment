{
 "cells": [
  {
   "cell_type": "markdown",
   "id": "characteristic-estimate",
   "metadata": {},
   "source": [
    "<img src=\"2_6.png\" width=\"800\">"
   ]
  },
  {
   "cell_type": "code",
   "execution_count": 2,
   "id": "encouraging-sodium",
   "metadata": {},
   "outputs": [],
   "source": [
    "import matplotlib.pyplot as plt\n",
    "import numpy as np\n",
    "from tqdm import tqdm"
   ]
  },
  {
   "cell_type": "markdown",
   "id": "palestinian-think",
   "metadata": {},
   "source": [
    "# Settings to be changed as part of exercise\n",
    "Flag indicating which prior will be used \n",
    "\n",
    " 1: Gaussian\n",
    " \n",
    " 2: Uniform\n",
    " \n",
    " 3: Two Gaussians"
   ]
  },
  {
   "cell_type": "code",
   "execution_count": 3,
   "id": "nearby-richards",
   "metadata": {},
   "outputs": [],
   "source": [
    "gaussianPrior = 1\n",
    "\n",
    "#Settings\n",
    "sigmaMeasurement = 2 #stddev measurement\n",
    "realX = 7 #Real value of x\n",
    "sigma0 = 1\n",
    "#End of exercise settings\n"
   ]
  },
  {
   "cell_type": "markdown",
   "id": "timely-conversion",
   "metadata": {},
   "source": [
    "Number of measurements:"
   ]
  },
  {
   "cell_type": "code",
   "execution_count": 4,
   "id": "fiscal-grace",
   "metadata": {},
   "outputs": [],
   "source": [
    "NumMeas = 200"
   ]
  },
  {
   "cell_type": "markdown",
   "id": "athletic-norfolk",
   "metadata": {},
   "source": [
    "Discretization for numerical integration\n",
    " \n",
    "Note that we use three regions: coarse/ine/coarse"
   ]
  },
  {
   "cell_type": "code",
   "execution_count": 5,
   "id": "secondary-portsmouth",
   "metadata": {},
   "outputs": [],
   "source": [
    "dx = 0.0001\n",
    "\n",
    "x1 = np.arange(-50, realX-sigmaMeasurement+0.1, 0.1) # coarse\n",
    "x2 = np.arange(realX-sigmaMeasurement+dx,realX+sigmaMeasurement+dx, dx) # fine\n",
    "x3 = np.arange(realX+sigmaMeasurement+0.1,50+0.1,0.1) # coarse\n",
    " \n",
    "x  = np.concatenate((x1,x2,x3),axis=0)#merge\n",
    "\n",
    "\n",
    "dx = x[np.arange(1, x.size)] - x[np.arange(0,x.size-1)] \n",
    "dx = np.append(dx, dx[dx.size-1]) "
   ]
  },
  {
   "cell_type": "code",
   "execution_count": 6,
   "id": "incomplete-judgment",
   "metadata": {},
   "outputs": [],
   "source": [
    "x0 = realX + np.random.randn()*sigmaMeasurement\n",
    "prior = np.zeros((NumMeas,x.size))\n",
    "LikelyHood = np.zeros((NumMeas,x.size))\n",
    "posterior = np.zeros((NumMeas,x.size))"
   ]
  },
  {
   "cell_type": "markdown",
   "id": "sudden-boating",
   "metadata": {},
   "source": [
    "Gaussian function"
   ]
  },
  {
   "cell_type": "code",
   "execution_count": 7,
   "id": "continuous-radius",
   "metadata": {},
   "outputs": [],
   "source": [
    "def gaussian(x, mu, sig):\n",
    "    return 1./(np.sqrt(2.*np.pi)*sig)*np.exp(-np.power((x - mu)/sig, 2.)/2)"
   ]
  },
  {
   "cell_type": "code",
   "execution_count": 8,
   "id": "emotional-competition",
   "metadata": {},
   "outputs": [],
   "source": [
    "prior[0,:] = gaussian(x,x0,sigma0);"
   ]
  },
  {
   "cell_type": "code",
   "execution_count": 10,
   "id": "guilty-italian",
   "metadata": {},
   "outputs": [
    {
     "name": "stderr",
     "output_type": "stream",
     "text": [
      "100%|██████████| 200/200 [00:00<00:00, 235304.57it/s]\n"
     ]
    }
   ],
   "source": [
    "for x in tqdm(range(NumMeas)):\n",
    "    indexStore = x\n",
    "    "
   ]
  },
  {
   "cell_type": "code",
   "execution_count": null,
   "id": "least-dryer",
   "metadata": {},
   "outputs": [],
   "source": []
  }
 ],
 "metadata": {
  "kernelspec": {
   "display_name": "Python [conda env:class]",
   "language": "python",
   "name": "conda-env-class-py"
  },
  "language_info": {
   "codemirror_mode": {
    "name": "ipython",
    "version": 3
   },
   "file_extension": ".py",
   "mimetype": "text/x-python",
   "name": "python",
   "nbconvert_exporter": "python",
   "pygments_lexer": "ipython3",
   "version": "3.7.10"
  }
 },
 "nbformat": 4,
 "nbformat_minor": 5
}
